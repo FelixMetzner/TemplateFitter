{
 "cells": [
  {
   "cell_type": "code",
   "execution_count": 1,
   "metadata": {
    "ExecuteTime": {
     "end_time": "2020-01-24T14:19:00.088883Z",
     "start_time": "2020-01-24T14:19:00.073046Z"
    }
   },
   "outputs": [],
   "source": [
    "%load_ext autoreload\n",
    "%autoreload 2"
   ]
  },
  {
   "cell_type": "code",
   "execution_count": 2,
   "metadata": {
    "ExecuteTime": {
     "end_time": "2020-01-24T14:19:00.470095Z",
     "start_time": "2020-01-24T14:19:00.091334Z"
    }
   },
   "outputs": [
    {
     "data": {
      "text/html": [
       "<style>.container { width:100% !important; }</style>"
      ],
      "text/plain": [
       "<IPython.core.display.HTML object>"
      ]
     },
     "metadata": {},
     "output_type": "display_data"
    }
   ],
   "source": [
    "import os\n",
    "import pandas as pd\n",
    "import numpy as np\n",
    "\n",
    "import matplotlib.pyplot as plt\n",
    "from IPython.core.display import display, HTML\n",
    "from collections import defaultdict\n",
    "\n",
    "pd.set_option('display.max_columns', 999)\n",
    "\n",
    "display(HTML(\"<style>.container { width:100% !important; }</style>\"))\n",
    "%matplotlib inline"
   ]
  },
  {
   "cell_type": "code",
   "execution_count": 3,
   "metadata": {
    "ExecuteTime": {
     "end_time": "2020-01-24T14:19:04.061280Z",
     "start_time": "2020-01-24T14:19:00.471551Z"
    }
   },
   "outputs": [
    {
     "name": "stderr",
     "output_type": "stream",
     "text": [
      "Using TensorFlow backend.\n"
     ]
    },
    {
     "data": {
      "application/javascript": [
       "\n",
       "require(['notebook'],\n",
       "  function() {\n",
       "    IPython.CodeCell.config_defaults.highlight_modes['magic_text/x-c++src'] = {'reg':[/^%%cpp/]};\n",
       "    console.log(\"JupyROOT - %%cpp magic configured\");\n",
       "  }\n",
       ");\n"
      ]
     },
     "metadata": {},
     "output_type": "display_data"
    },
    {
     "name": "stdout",
     "output_type": "stream",
     "text": [
      "Welcome to JupyROOT 6.08/06\n"
     ]
    }
   ],
   "source": [
    "from rdstar.offline_analysis.mc_ids import sig_id_to_label\n",
    "from rdstar.offline_analysis.rdstar_plots import get_rdstar_color_dict\n",
    "from rdstar.offline_analysis.rdstar_samples import data_type_combinations\n",
    "from rdstar.offline_analysis.corrections.fei_tag_correction import TagCorrection\n",
    "from rdstar.offline_analysis.systematics import full_systematics_cols, full_systematics_name, get_systematics\n",
    "from rdstar.offline_analysis.validation.sideband_validation import plot_data_mc_comparison, hvar_missing_mass_q2sb, SidebandInfo, create_sideband_infos_with_systematics\n",
    "\n",
    "from rdstar.offline_analysis.validation.sideband_validation_old import plot_data_mc_comparison_old, hvar_missing_mass_q2sb_old, SidebandInfo_old, create_sideband_infos_with_systematics_old"
   ]
  },
  {
   "cell_type": "code",
   "execution_count": 4,
   "metadata": {
    "ExecuteTime": {
     "end_time": "2020-01-24T14:19:04.084781Z",
     "start_time": "2020-01-24T14:19:04.062720Z"
    }
   },
   "outputs": [],
   "source": [
    "import logging\n",
    "logger = logging.getLogger()\n",
    "logger.setLevel(logging.DEBUG)\n",
    "mpl_logger = logging.getLogger('matplotlib')\n",
    "mpl_logger.setLevel(logging.WARNING)"
   ]
  },
  {
   "cell_type": "code",
   "execution_count": 5,
   "metadata": {
    "ExecuteTime": {
     "end_time": "2020-01-24T14:19:04.108195Z",
     "start_time": "2020-01-24T14:19:04.086104Z"
    }
   },
   "outputs": [],
   "source": [
    "test_plots = False"
   ]
  },
  {
   "cell_type": "code",
   "execution_count": 6,
   "metadata": {
    "ExecuteTime": {
     "end_time": "2020-01-24T14:19:04.131835Z",
     "start_time": "2020-01-24T14:19:04.109654Z"
    }
   },
   "outputs": [],
   "source": [
    "side_band = \"q2\"\n",
    "base_input_path = os.fspath(\"/storage/9/fmetzner/rdstar/data_set_prod_18thApr2019_stream0/CombinedSamples/\")"
   ]
  },
  {
   "cell_type": "code",
   "execution_count": 7,
   "metadata": {
    "ExecuteTime": {
     "end_time": "2020-01-24T14:19:04.155898Z",
     "start_time": "2020-01-24T14:19:04.133624Z"
    }
   },
   "outputs": [],
   "source": [
    "def get_file_name(data_type, side_band_name):\n",
    "    return f\"{data_type}_withFinalWeights_first_selection_with_CS_CS1_{side_band_name}_sideband.h5\""
   ]
  },
  {
   "cell_type": "code",
   "execution_count": 8,
   "metadata": {
    "ExecuteTime": {
     "end_time": "2020-01-24T14:19:04.179103Z",
     "start_time": "2020-01-24T14:19:04.157178Z"
    }
   },
   "outputs": [],
   "source": [
    "mc_data_types = [\"Charged\", \"Mixed\", \"Charm\", \"UDS\", \"Gap\", \"Dss\", \"Special\"]\n",
    "data_key = \"DataY4S\"\n",
    "\n",
    "data_types = mc_data_types + [data_key]"
   ]
  },
  {
   "cell_type": "code",
   "execution_count": 9,
   "metadata": {
    "ExecuteTime": {
     "end_time": "2020-01-24T14:19:04.203493Z",
     "start_time": "2020-01-24T14:19:04.180447Z"
    }
   },
   "outputs": [],
   "source": [
    "data_paths = {data_type: os.path.join(base_input_path, get_file_name(data_type, side_band)) for data_type in data_types}"
   ]
  },
  {
   "cell_type": "code",
   "execution_count": 10,
   "metadata": {
    "ExecuteTime": {
     "end_time": "2020-01-24T14:19:10.079704Z",
     "start_time": "2020-01-24T14:19:04.204938Z"
    }
   },
   "outputs": [],
   "source": [
    "df_mc = pd.concat([pd.read_hdf(data_paths[data_type]) for data_type in mc_data_types], ignore_index=True, sort=False)"
   ]
  },
  {
   "cell_type": "code",
   "execution_count": 11,
   "metadata": {
    "ExecuteTime": {
     "end_time": "2020-01-24T14:19:10.113806Z",
     "start_time": "2020-01-24T14:19:10.081272Z"
    }
   },
   "outputs": [
    {
     "data": {
      "text/plain": [
       "Index(['chiProb', 'dM',\n",
       "       'daughter__bo1__cm__spdaughter__bo0__cm__spdaughter__bo0__cm__spdaughter__bo0__cm__spPDG__bc__bc__bc__bc',\n",
       "       'genUpsilon4S__bomcDaughter__bo0__cm__spmcDaughter__bo1__cm__spmcDaughter__bo1__cmE__bc__bc__bc__bc',\n",
       "       'daughter__bo1__cm__spcosThetaBetweenParticleAndTrueB__bc',\n",
       "       'genUpsilon4S__bomcDaughter__bo1__cm__spmcDaughter__bo1__cmmcDaughter__bo0__cmPDG__bc__bc__bc__bc',\n",
       "       'nCleanedECLClusters__bogoodBelleGamma__sp__eq__eq__sp1__spand__spclusterTrackMatch__sp__eq__eq__sp0__bc',\n",
       "       'daughter__bo1__cm__spuseCMSFrame__bop__bc__bc',\n",
       "       'genUpsilon4S__bomcDaughter__bo0__cm__spmcDaughter__bo3__cmPDG__bc__bc__bc',\n",
       "       'genUpsilon4S__bomcDaughter__bo1__cm__spmcDaughter__bo1__cm__spmcDaughter__bo1__cmpx__bc__bc__bc__bc',\n",
       "       ...\n",
       "       '__weight_pid_corr_piFromK_variation_16__',\n",
       "       '__weight_pid_corr_piFromK_variation_17__',\n",
       "       '__weight_pid_corr_piFromK_variation_18__',\n",
       "       '__weight_pid_corr_piFromK_variation_19__', '__weight_ff_nom__',\n",
       "       '__weight_full__',\n",
       "       'daughter__bo1__cm__spdaughter__bo1__cm__spmcMother__bomcMother__bomcDaughter__bo0__cm__spmcDaughter__bo2__cm__spPDG__bc__bc__bc__bc__bc__bc',\n",
       "       'daughter__bo1__cm__spdaughter__bo1__cm__spmcMother__bomcDaughter__bo0__cm__spmcDaughter__bo2__cm__spPDG__bc__bc__bc__bc__bc',\n",
       "       'nCleanedTracks__bodr__sp__st__sp2__spand__spabs__bodz__bc__sp__st__sp4__spand__sppt__sp__gt__sp0__pt2__bc',\n",
       "       'daughter__bo1__cm__spdaughter__bo2__cm__sptheta__bc__bc'],\n",
       "      dtype='object', length=848)"
      ]
     },
     "execution_count": 11,
     "metadata": {},
     "output_type": "execute_result"
    }
   ],
   "source": [
    "df_mc.columns"
   ]
  },
  {
   "cell_type": "code",
   "execution_count": 12,
   "metadata": {
    "ExecuteTime": {
     "end_time": "2020-01-24T14:19:10.188288Z",
     "start_time": "2020-01-24T14:19:10.115676Z"
    }
   },
   "outputs": [],
   "source": [
    "df_data = pd.read_hdf(data_paths[data_key])"
   ]
  },
  {
   "cell_type": "code",
   "execution_count": 13,
   "metadata": {
    "ExecuteTime": {
     "end_time": "2020-01-24T14:19:10.214949Z",
     "start_time": "2020-01-24T14:19:10.190052Z"
    }
   },
   "outputs": [
    {
     "data": {
      "text/plain": [
       "['weight_ff_btod_nom',\n",
       " 'weight_ff_btodst_nom',\n",
       " 'weight_ff_Dzerostar_nom',\n",
       " 'weight_ff_Dprimeone_nom',\n",
       " 'weight_ff_Done_nom',\n",
       " 'weight_ff_Dtwostar_nom']"
      ]
     },
     "execution_count": 13,
     "metadata": {},
     "output_type": "execute_result"
    }
   ],
   "source": [
    "ff_cols = [c for c in df_mc.columns if c.startswith(\"weight_ff_\") and c.endswith(\"nom\")]\n",
    "ff_weight_names = ff_cols\n",
    "ff_cols"
   ]
  },
  {
   "cell_type": "code",
   "execution_count": 14,
   "metadata": {
    "ExecuteTime": {
     "end_time": "2020-01-24T14:19:10.261782Z",
     "start_time": "2020-01-24T14:19:10.216520Z"
    }
   },
   "outputs": [
    {
     "data": {
      "text/plain": [
       "['ulnuCharged', 'ulnuMixed', 'rareCharged', 'rareMixed']"
      ]
     },
     "execution_count": 14,
     "metadata": {},
     "output_type": "execute_result"
    }
   ],
   "source": [
    "dt_list = data_type_combinations[\"Special\"]\n",
    "data_type_combinations[\"Special\"]"
   ]
  },
  {
   "cell_type": "code",
   "execution_count": 15,
   "metadata": {
    "ExecuteTime": {
     "end_time": "2020-01-24T14:19:18.916683Z",
     "start_time": "2020-01-24T14:19:10.263440Z"
    }
   },
   "outputs": [],
   "source": [
    "for c in ff_weight_names:\n",
    "    df_mc.loc[np.isnan(df_mc[c]) & df_mc.data_type.isin(dt_list), c] = 1.0\n",
    "    for cc in [col for col in df_mc.columns if col.startswith(c.replace(\"_nom\", \"_var_\"))]:\n",
    "        df_mc.loc[np.isnan(df_mc[cc]) & df_mc.data_type.isin(dt_list), cc] = 1.0"
   ]
  },
  {
   "cell_type": "code",
   "execution_count": 16,
   "metadata": {
    "ExecuteTime": {
     "end_time": "2020-01-24T14:19:19.005408Z",
     "start_time": "2020-01-24T14:19:18.918169Z"
    }
   },
   "outputs": [
    {
     "data": {
      "text/plain": [
       "[array([], dtype=float64),\n",
       " array([], dtype=float64),\n",
       " array([], dtype=float64),\n",
       " array([], dtype=float64),\n",
       " array([], dtype=float64),\n",
       " array([], dtype=float64)]"
      ]
     },
     "execution_count": 16,
     "metadata": {},
     "output_type": "execute_result"
    }
   ],
   "source": [
    "dts = []\n",
    "for c in ff_weight_names:\n",
    "    dts.append(df_mc.loc[np.isnan(df_mc[c]) & df_mc.data_type.isin(dt_list), \"__weight_full__\"].unique())\n",
    "    #dts.append((c, df_mc.loc[df_mc[c] == df_mc[c].min(), c].min(), list(df_mc.loc[df_mc[c] == df_mc[c].min(), \"data_type\"].unique()), list(df_mc.loc[df_mc[c] == df_mc[c].min(), \"__weight_full__\"].unique())))\n",
    "    \n",
    "dts"
   ]
  },
  {
   "cell_type": "code",
   "execution_count": 17,
   "metadata": {
    "ExecuteTime": {
     "end_time": "2020-01-24T14:19:24.670984Z",
     "start_time": "2020-01-24T14:19:19.007238Z"
    }
   },
   "outputs": [],
   "source": [
    "fei_tag_corrector = TagCorrection(correct_only_true_b=False)\n",
    "fei_tag_corrector.apply_tagging_correction(sample=df_mc)"
   ]
  },
  {
   "cell_type": "code",
   "execution_count": 18,
   "metadata": {
    "ExecuteTime": {
     "end_time": "2020-01-24T14:19:24.704671Z",
     "start_time": "2020-01-24T14:19:24.672220Z"
    }
   },
   "outputs": [
    {
     "data": {
      "text/plain": [
       "0.810    363319\n",
       "0.853    131673\n",
       "Name: __tagging_fei_corr_factor__, dtype: int64"
      ]
     },
     "execution_count": 18,
     "metadata": {},
     "output_type": "execute_result"
    }
   ],
   "source": [
    "df_mc[TagCorrection.tagging_correction_name].value_counts()"
   ]
  },
  {
   "cell_type": "code",
   "execution_count": 19,
   "metadata": {
    "ExecuteTime": {
     "end_time": "2020-01-24T14:19:27.939093Z",
     "start_time": "2020-01-24T14:19:24.706112Z"
    }
   },
   "outputs": [],
   "source": [
    "assert \"__weight_final_wFEI_corr__\" not in df_mc.columns\n",
    "df_mc.loc[:, \"__weight_final_wFEI_corr__\"] = df_mc[[\"__weight_full__\", TagCorrection.tagging_correction_name]].product(axis=1)"
   ]
  },
  {
   "cell_type": "code",
   "execution_count": 20,
   "metadata": {
    "ExecuteTime": {
     "end_time": "2020-01-24T14:19:27.987675Z",
     "start_time": "2020-01-24T14:19:27.941037Z"
    }
   },
   "outputs": [
    {
     "data": {
      "text/plain": [
       "['weight_ff_Dtwostar_var_0_up',\n",
       " 'weight_ff_Dtwostar_var_0_down',\n",
       " 'weight_ff_Dtwostar_var_1_up',\n",
       " 'weight_ff_Dtwostar_var_1_down',\n",
       " 'weight_ff_Dtwostar_var_2_up',\n",
       " 'weight_ff_Dtwostar_var_2_down',\n",
       " 'weight_ff_Dtwostar_var_3_up',\n",
       " 'weight_ff_Dtwostar_var_3_down']"
      ]
     },
     "execution_count": 20,
     "metadata": {},
     "output_type": "execute_result"
    }
   ],
   "source": [
    "[c for c in df_mc.columns if \"weight_ff_Dtwostar_var_\" in c]"
   ]
  },
  {
   "cell_type": "code",
   "execution_count": 21,
   "metadata": {
    "ExecuteTime": {
     "end_time": "2020-01-24T14:19:28.046011Z",
     "start_time": "2020-01-24T14:19:27.991584Z"
    }
   },
   "outputs": [
    {
     "data": {
      "text/plain": [
       "[SysColsInfo(var='__weight_pid_corr_lepton_variation_', ratio='__weight_pid_corr_lepton_ratio__', from_df=True),\n",
       " SysColsInfo(var='__weight_pid_corr_pi_variation_', ratio='__weight_pid_corr_pi_ratio__', from_df=True),\n",
       " SysColsInfo(var='__weight_pid_corr_piFromK_variation_', ratio='__weight_pid_corr_piFromK_ratio__', from_df=True),\n",
       " SysColsInfo(var='__weight_pid_corr_k_variation_', ratio='__weight_pid_corr_k_ratio__', from_df=True),\n",
       " SysColsInfo(var='__weight_pid_corr_kFromPi_variation_', ratio='__weight_pid_corr_kFromPi_ratio__', from_df=True),\n",
       " SysColsInfo(var='__weight_slow_pi_var_', ratio='__weight_slow_pi_ratio__', from_df=True),\n",
       " SysColsInfo(var='__weight_k_short_var_', ratio='__weight_k_short_ratio__', from_df=True),\n",
       " SysColsInfo(var='__tracking_systematic__', ratio=None, from_df=False),\n",
       " SysColsInfo(var='__tagging_fei_corr_uncert__', ratio='__tagging_fei_corr_factor__', from_df=False),\n",
       " SysColsInfo(var='weight_ff_btod_var_', ratio='weight_ff_btod_nom', from_df=True),\n",
       " SysColsInfo(var='weight_ff_btodst_var_', ratio='weight_ff_btodst_nom', from_df=True),\n",
       " SysColsInfo(var='weight_ff_Done_var_', ratio='weight_ff_Done_nom', from_df=True),\n",
       " SysColsInfo(var='weight_ff_Dtwostar_var_', ratio='weight_ff_Dtwostar_nom', from_df=True),\n",
       " SysColsInfo(var='weight_ff_Dzerostar_var_', ratio='weight_ff_Dzerostar_nom', from_df=True),\n",
       " SysColsInfo(var='weight_ff_Dprimeone_var_', ratio='weight_ff_Dprimeone_nom', from_df=True)]"
      ]
     },
     "execution_count": 21,
     "metadata": {},
     "output_type": "execute_result"
    }
   ],
   "source": [
    "full_systematics_cols"
   ]
  },
  {
   "cell_type": "code",
   "execution_count": 22,
   "metadata": {
    "ExecuteTime": {
     "end_time": "2020-01-24T14:19:28.075229Z",
     "start_time": "2020-01-24T14:19:28.047467Z"
    }
   },
   "outputs": [],
   "source": [
    "m_miss_sb_info = SidebandInfo(\n",
    "    key=\"q2_sideband\",\n",
    "    hist_var=hvar_missing_mass_q2sb,\n",
    "    title=r\"$\\mathrm{q}^2$ Sideband\",\n",
    "    sb_text=r\"$\\mathrm{q}^2 < 4.0$ GeV$^2$\",\n",
    "    text_h_pos=(0.64, 0.03),\n",
    "    text_v_pos=(0.76, 0.97),\n",
    "    legend_loc=1,\n",
    "    legend_cols=1,\n",
    "    y_scale=1.1,\n",
    "    systematics=None\n",
    ")\n",
    "\n",
    "m_miss_sb_info_old = SidebandInfo_old(\n",
    "    key=\"q2_sideband\",\n",
    "    hist_var=hvar_missing_mass_q2sb_old,\n",
    "    title=r\"$\\mathrm{q}^2$ Sideband\",\n",
    "    sb_text=r\"$\\mathrm{q}^2 < 4.0$ GeV$^2$\",\n",
    "    text_h_pos=(0.64, 0.03),\n",
    "    text_v_pos=(0.76, 0.97),\n",
    "    legend_loc=1,\n",
    "    legend_cols=1,\n",
    "    y_scale=1.1,\n",
    "    systematics=None\n",
    ")\n"
   ]
  },
  {
   "cell_type": "code",
   "execution_count": 23,
   "metadata": {
    "ExecuteTime": {
     "end_time": "2020-01-24T14:19:28.112029Z",
     "start_time": "2020-01-24T14:19:28.077681Z"
    }
   },
   "outputs": [],
   "source": [
    "m_miss_sb_info_w_sys = create_sideband_infos_with_systematics(\n",
    "    sideband_info_list=[m_miss_sb_info],\n",
    "    systematics_collection=full_systematics_cols,\n",
    "    sys_name_tag=full_systematics_name\n",
    ")[0]\n",
    "\n",
    "m_miss_sb_info_w_sys_old = create_sideband_infos_with_systematics_old(\n",
    "    sideband_info_list=[m_miss_sb_info_old],\n",
    "    systematics_collection=full_systematics_cols,\n",
    "    sys_name_tag=full_systematics_name\n",
    ")[0]"
   ]
  },
  {
   "cell_type": "code",
   "execution_count": 24,
   "metadata": {
    "ExecuteTime": {
     "end_time": "2020-01-24T14:19:28.169209Z",
     "start_time": "2020-01-24T14:19:28.115262Z"
    }
   },
   "outputs": [],
   "source": [
    "from templatefitter.plotter.histogram_variable import HistVariable"
   ]
  },
  {
   "cell_type": "code",
   "execution_count": 25,
   "metadata": {
    "ExecuteTime": {
     "end_time": "2020-01-24T14:19:28.206737Z",
     "start_time": "2020-01-24T14:19:28.171798Z"
    }
   },
   "outputs": [],
   "source": [
    "hvar_pStarL = HistVariable(\"pStarL\", 2, (0.1, 2.2), r\"$\\mathrm{p}_\\ell^\\ast$\", r\"$\\mathrm{GeV}$\")\n",
    "pStarL_sb_info = SidebandInfo(\n",
    "    key=\"q2_sideband\",\n",
    "    hist_var=hvar_pStarL,\n",
    "    title=r\"$\\mathrm{q}^2$ Sideband\",\n",
    "    sb_text=r\"$\\mathrm{q}^2 < 4.0$ GeV$^2$\",\n",
    "    text_h_pos=(0.64, 0.03),\n",
    "    text_v_pos=(0.76, 0.97),\n",
    "    legend_loc=1,\n",
    "    legend_cols=1,\n",
    "    y_scale=1.1,\n",
    "    systematics=None\n",
    ")\n",
    "\n",
    "pStarL_sb_info_w_sys = create_sideband_infos_with_systematics(\n",
    "    sideband_info_list=[pStarL_sb_info],\n",
    "    systematics_collection=full_systematics_cols,\n",
    "    sys_name_tag=full_systematics_name\n",
    ")[0]"
   ]
  },
  {
   "cell_type": "code",
   "execution_count": 26,
   "metadata": {
    "ExecuteTime": {
     "end_time": "2020-01-24T14:19:28.249322Z",
     "start_time": "2020-01-24T14:19:28.209175Z"
    }
   },
   "outputs": [],
   "source": [
    "hvar_missing_mom_cms = HistVariable(\"missingMomentumInCMSFrame\", 2, (-1., 3.), r\"$p_\\mathrm{miss}^\\ast$\", \"GeV\")\n",
    "\n",
    "miss_mom_sb_info = SidebandInfo(\n",
    "    key=\"q2_sideband\",\n",
    "    hist_var=hvar_missing_mom_cms,\n",
    "    title=r\"$\\mathrm{q}^2$ Sideband\",\n",
    "    sb_text=r\"$\\mathrm{q}^2 < 4.0$ GeV$^2$\",\n",
    "    text_h_pos=(0.64, 0.03),\n",
    "    text_v_pos=(0.76, 0.97),\n",
    "    legend_loc=1,\n",
    "    legend_cols=1,\n",
    "    y_scale=1.1,\n",
    "    systematics=None\n",
    ")\n",
    "\n",
    "miss_mom_sb_info_w_sys = create_sideband_infos_with_systematics(\n",
    "    sideband_info_list=[miss_mom_sb_info],\n",
    "    systematics_collection=full_systematics_cols,\n",
    "    sys_name_tag=full_systematics_name\n",
    ")[0]"
   ]
  },
  {
   "cell_type": "markdown",
   "metadata": {},
   "source": [
    "# Write out small data set for test"
   ]
  },
  {
   "cell_type": "code",
   "execution_count": 27,
   "metadata": {
    "ExecuteTime": {
     "end_time": "2020-01-24T14:19:28.308814Z",
     "start_time": "2020-01-24T14:19:28.251789Z"
    }
   },
   "outputs": [
    {
     "data": {
      "text/plain": [
       "['__weight_final_wFEI_corr__',\n",
       " 'daughter__bo1__cm__spextraInfo__bodecayModeID__bc__bc',\n",
       " 'SIG_ID',\n",
       " 'm2RecoilSignalSide',\n",
       " '__weight_full__',\n",
       " '__tagging_fei_corr_factor__',\n",
       " '__weight_pid_corr_lepton_variation_',\n",
       " '__weight_pid_corr_pi_variation_',\n",
       " '__weight_pid_corr_piFromK_variation_',\n",
       " '__weight_pid_corr_k_variation_',\n",
       " '__weight_pid_corr_kFromPi_variation_',\n",
       " '__weight_slow_pi_var_',\n",
       " '__weight_k_short_var_',\n",
       " '__tracking_systematic__',\n",
       " '__tagging_fei_corr_uncert__',\n",
       " 'weight_ff_btod_var_',\n",
       " 'weight_ff_btodst_var_',\n",
       " 'weight_ff_Done_var_',\n",
       " 'weight_ff_Dtwostar_var_',\n",
       " 'weight_ff_Dzerostar_var_',\n",
       " 'weight_ff_Dprimeone_var_',\n",
       " '__weight_pid_corr_lepton_ratio__',\n",
       " '__weight_pid_corr_pi_ratio__',\n",
       " '__weight_pid_corr_piFromK_ratio__',\n",
       " '__weight_pid_corr_k_ratio__',\n",
       " '__weight_pid_corr_kFromPi_ratio__',\n",
       " '__weight_slow_pi_ratio__',\n",
       " '__weight_k_short_ratio__',\n",
       " '__tagging_fei_corr_factor__',\n",
       " 'weight_ff_btod_nom',\n",
       " 'weight_ff_btodst_nom',\n",
       " 'weight_ff_Done_nom',\n",
       " 'weight_ff_Dtwostar_nom',\n",
       " 'weight_ff_Dzerostar_nom',\n",
       " 'weight_ff_Dprimeone_nom']"
      ]
     },
     "execution_count": 27,
     "metadata": {},
     "output_type": "execute_result"
    }
   ],
   "source": [
    "columns_to_keep = [\n",
    "    \"__weight_final_wFEI_corr__\",\n",
    "    \"daughter__bo1__cm__spextraInfo__bodecayModeID__bc__bc\",\n",
    "    \"SIG_ID\",\n",
    "    \"m2RecoilSignalSide\",\n",
    "    \"__weight_full__\",\n",
    "    TagCorrection.tagging_correction_name\n",
    "]\n",
    "\n",
    "columns_to_keep.extend([si.var for si in m_miss_sb_info_w_sys_old.systematics])\n",
    "columns_to_keep.extend([si.ratio for si in m_miss_sb_info_w_sys_old.systematics if si.ratio is not None])\n",
    "\n",
    "columns_to_keep"
   ]
  },
  {
   "cell_type": "code",
   "execution_count": 28,
   "metadata": {
    "ExecuteTime": {
     "end_time": "2020-01-24T14:19:28.337353Z",
     "start_time": "2020-01-24T14:19:28.311300Z"
    }
   },
   "outputs": [],
   "source": [
    "columns_to_drop = [c for c in df_mc.columns if c not in columns_to_keep]"
   ]
  },
  {
   "cell_type": "code",
   "execution_count": 29,
   "metadata": {
    "ExecuteTime": {
     "end_time": "2020-01-24T14:19:28.433384Z",
     "start_time": "2020-01-24T14:19:28.339825Z"
    }
   },
   "outputs": [],
   "source": [
    "df_mc_reduced = df_mc.drop(columns=columns_to_drop)"
   ]
  },
  {
   "cell_type": "code",
   "execution_count": 30,
   "metadata": {
    "ExecuteTime": {
     "end_time": "2020-01-24T14:19:29.349256Z",
     "start_time": "2020-01-24T14:19:28.434731Z"
    }
   },
   "outputs": [],
   "source": [
    "df_mc_reduced.to_hdf(path_or_buf=\"/home/fmetzner/Downloads/test_mc.h5\", key=\"mc\")"
   ]
  },
  {
   "cell_type": "code",
   "execution_count": 31,
   "metadata": {
    "ExecuteTime": {
     "end_time": "2020-01-24T14:19:29.377165Z",
     "start_time": "2020-01-24T14:19:29.351431Z"
    }
   },
   "outputs": [],
   "source": [
    "data_columns_to_drop = [c for c in columns_to_drop if c in df_data.columns]\n",
    "df_data_reduced = df_data.drop(columns=data_columns_to_drop)"
   ]
  },
  {
   "cell_type": "code",
   "execution_count": 32,
   "metadata": {
    "ExecuteTime": {
     "end_time": "2020-01-24T14:19:29.967160Z",
     "start_time": "2020-01-24T14:19:29.378842Z"
    }
   },
   "outputs": [],
   "source": [
    "df_data.to_hdf(path_or_buf=\"/home/fmetzner/Downloads/test_data.h5\", key=\"data\")\n",
    "df_data_reduced.to_hdf(path_or_buf=\"/home/fmetzner/Downloads/test_data_reduced.h5\", key=\"data\")"
   ]
  },
  {
   "cell_type": "markdown",
   "metadata": {},
   "source": [
    "# Plotter Test"
   ]
  },
  {
   "cell_type": "code",
   "execution_count": 33,
   "metadata": {
    "ExecuteTime": {
     "end_time": "2020-01-24T14:19:29.993751Z",
     "start_time": "2020-01-24T14:19:29.968380Z"
    },
    "scrolled": true
   },
   "outputs": [],
   "source": [
    "if test_plots:\n",
    "    plot_data_mc_comparison_old(\n",
    "        mc_df=df_mc,\n",
    "        data_df=df_data,\n",
    "        weight_col=\"__weight_final_wFEI_corr__\",\n",
    "        #sideband_info=m_miss_sb_info_w_sys_old,\n",
    "        sideband_info=m_miss_sb_info_old,\n",
    "        export_path=None,\n",
    "        style=\"stacked\",\n",
    "        ratio_type=\"vs_uncert\",\n",
    "        normalize_mc_to_data=False,\n",
    "        gof_check_method=\"toys\",\n",
    "        adaptive_binning=True,\n",
    "        show_plots=True\n",
    "    )"
   ]
  },
  {
   "cell_type": "code",
   "execution_count": 34,
   "metadata": {
    "ExecuteTime": {
     "end_time": "2020-01-24T14:19:30.017727Z",
     "start_time": "2020-01-24T14:19:29.995439Z"
    }
   },
   "outputs": [],
   "source": [
    "if test_plots:\n",
    "    plot_data_mc_comparison(\n",
    "        mc_df=df_mc,\n",
    "        data_df=df_data,\n",
    "        weight_col=\"__weight_final_wFEI_corr__\",\n",
    "        #sideband_info=m_miss_sb_info_w_sys,\n",
    "        sideband_info=m_miss_sb_info,\n",
    "        export_path=None,\n",
    "        style=\"stacked\",\n",
    "        ratio_type=\"vs_uncert\",\n",
    "        normalize_mc_to_data=False,\n",
    "        gof_check_method=\"toys\",\n",
    "        adaptive_binning=True,\n",
    "        show_plots=True\n",
    "    )"
   ]
  },
  {
   "cell_type": "code",
   "execution_count": 35,
   "metadata": {
    "ExecuteTime": {
     "end_time": "2020-01-24T14:19:30.041914Z",
     "start_time": "2020-01-24T14:19:30.019278Z"
    }
   },
   "outputs": [],
   "source": [
    "if test_plots:\n",
    "    plot_data_mc_comparison(\n",
    "        mc_df=df_mc,\n",
    "        data_df=df_data,\n",
    "        weight_col=\"__weight_final_wFEI_corr__\",\n",
    "        #sideband_info=pStarL_sb_info_w_sys,\n",
    "        sideband_info=pStarL_sb_info,\n",
    "        export_path=None,\n",
    "        style=\"stacked\",\n",
    "        ratio_type=\"vs_uncert\",\n",
    "        normalize_mc_to_data=False,\n",
    "        gof_check_method=\"toys\",\n",
    "        adaptive_binning=True,\n",
    "        show_plots=True\n",
    "    )"
   ]
  },
  {
   "cell_type": "code",
   "execution_count": 36,
   "metadata": {
    "ExecuteTime": {
     "end_time": "2020-01-24T14:19:30.067998Z",
     "start_time": "2020-01-24T14:19:30.044093Z"
    }
   },
   "outputs": [],
   "source": [
    "if test_plots:\n",
    "    plot_data_mc_comparison(\n",
    "        mc_df=df_mc,\n",
    "        data_df=df_data,\n",
    "        weight_col=\"__weight_final_wFEI_corr__\",\n",
    "        #sideband_info=miss_mom_sb_info_w_sys,\n",
    "        sideband_info=miss_mom_sb_info,\n",
    "        export_path=None,\n",
    "        style=\"stacked\",\n",
    "        ratio_type=\"vs_uncert\",\n",
    "        normalize_mc_to_data=False,\n",
    "        gof_check_method=\"toys\",\n",
    "        adaptive_binning=True,\n",
    "        show_plots=True\n",
    "    )"
   ]
  },
  {
   "cell_type": "code",
   "execution_count": 37,
   "metadata": {
    "ExecuteTime": {
     "end_time": "2020-01-24T14:19:30.103631Z",
     "start_time": "2020-01-24T14:19:30.069549Z"
    }
   },
   "outputs": [
    {
     "data": {
      "text/plain": [
       "True"
      ]
     },
     "execution_count": 37,
     "metadata": {},
     "output_type": "execute_result"
    }
   ],
   "source": [
    "\"__tagging_fei_corr_factor__\" in df_mc.loc[df_mc.__tagging_fei_corr_factor__<-111111].columns"
   ]
  },
  {
   "cell_type": "markdown",
   "metadata": {},
   "source": [
    "# Fitter Test"
   ]
  },
  {
   "cell_type": "code",
   "execution_count": 38,
   "metadata": {
    "ExecuteTime": {
     "end_time": "2020-01-24T14:19:30.149724Z",
     "start_time": "2020-01-24T14:19:30.106008Z"
    }
   },
   "outputs": [],
   "source": [
    "from collections import defaultdict\n",
    "\n",
    "from rdstar.offline_analysis.mc_ids import rdstar_sig_queries\n",
    "\n",
    "from templatefitter.fit_model.parameter_handler import ParameterHandler\n",
    "from templatefitter.fit_model.template import Template\n",
    "from templatefitter.fit_model.model_builder import FitModel"
   ]
  },
  {
   "cell_type": "code",
   "execution_count": 39,
   "metadata": {
    "ExecuteTime": {
     "end_time": "2020-01-24T14:19:34.528532Z",
     "start_time": "2020-01-24T14:19:30.153720Z"
    }
   },
   "outputs": [],
   "source": [
    "rdstar_dec_modes = {\n",
    "    \"DZ\": [13, 14],\n",
    "    \"DM\": [11, 12],\n",
    "    \"DSZ\": [17, 18],\n",
    "    \"DSM\": [15, 16],\n",
    "}\n",
    "\n",
    "rdstar_miss_mass_binning_for_dec_modes_adapted = {\n",
    "    \"DZ\": ((-2.0, -1.76, -1.52, -1.28, -1.04, -0.8, -0.56, -0.32000000000000006, -0.08000000000000007, 0.16000000000000014, 0.3999999999999999, 0.6399999999999997, 0.8799999999999999, 1.12, 1.3599999999999999, 1.5999999999999996, 1.8399999999999999, 2.08, 2.3200000000000003, 2.5599999999999996, 2.8, 4.0),),\n",
    "    \"DM\": ((-2.0, -1.52, -1.28, -1.04, -0.8, -0.56, -0.32000000000000006, -0.08000000000000007, 0.16000000000000014, 0.3999999999999999, 0.6399999999999997, 0.8799999999999999, 1.12, 1.3599999999999999, 1.5999999999999996, 1.8399999999999999, 2.08, 2.3200000000000003, 2.5599999999999996, 4.0),),\n",
    "    \"DSZ\": ((-2.0, -1.76, -1.52, -1.28, -1.04, -0.8, -0.56, -0.32000000000000006, -0.08000000000000007, 0.16000000000000014, 0.3999999999999999, 0.6399999999999997, 0.8799999999999999, 1.12, 1.3599999999999999, 1.5999999999999996, 1.8399999999999999, 2.08, 2.3200000000000003, 2.5599999999999996, 2.8, 4.0),),\n",
    "    \"DSM\": ((-2.0, -1.52, -1.04, -0.8, -0.56, -0.32000000000000006, -0.08000000000000007, 0.16000000000000014, 0.3999999999999999, 0.6399999999999997, 0.8799999999999999, 1.12, 1.3599999999999999, 1.5999999999999996, 1.8399999999999999, 2.08, 4.0),),\n",
    "    \"all_modes\": ((-2.0, -1.76, -1.52, -1.28, -1.04, -0.8, -0.56, -0.32000000000000006, -0.08000000000000007, 0.16000000000000014, 0.3999999999999999, 0.6399999999999997, 0.8799999999999999, 1.12, 1.3599999999999999, 1.5999999999999996, 1.8399999999999999, 2.08, 2.3200000000000003, 2.5599999999999996, 2.8, 4.0),),\n",
    "}\n",
    "\n",
    "rdstar_miss_mass_binning_for_dec_modes_simple = {i: len(c[0]) for i,c in rdstar_miss_mass_binning_for_dec_modes_adapted.items()}\n",
    "\n",
    "rdstar_miss_mass_binning_for_dec_modes = rdstar_miss_mass_binning_for_dec_modes_simple\n",
    "\n",
    "rdstar_dec_titles = {\n",
    "    \"DZ\": r\"$B^- \\rightarrow D^0 \\ell^-$\",\n",
    "    \"DM\": r\"$B^0 \\rightarrow D^- \\ell^+$\",\n",
    "    \"DSZ\": r\"$B^- \\rightarrow D^{*0} \\ell^-$\",\n",
    "    \"DSM\": r\"$B^0 \\rightarrow D^{*-} \\ell^+$\",\n",
    "    \"all_modes\": \"All Reconstruction Modes\",\n",
    "}\n",
    "\n",
    "plot_order = [\"CBKG\", \"GBKG\", \"HBKG\", \"DSSlbkg\", \"DSSl\", \"DSl\", \"Dl\", \"DStau\", \"Dtau\"]\n",
    "weight_col_for_fit = \"__weight_final_wFEI_corr__\"\n",
    "weight_col_for_fit2 = \"__weight_final_wFEI_corr_x_fac2__\"\n",
    "df_mc.loc[:, weight_col_for_fit2] = df_mc[weight_col_for_fit] * 2"
   ]
  },
  {
   "cell_type": "code",
   "execution_count": 40,
   "metadata": {
    "ExecuteTime": {
     "end_time": "2020-01-24T14:19:34.561260Z",
     "start_time": "2020-01-24T14:19:34.531354Z"
    }
   },
   "outputs": [],
   "source": [
    "dec_modes = rdstar_dec_modes\n",
    "dec_titles = rdstar_dec_titles\n",
    "\n",
    "all_mode_ids = [d_id for d_ids in dec_modes.values() for d_id in d_ids]\n",
    "output_dict = {}\n",
    "\n",
    "mode_infos = [(k, v) for k, v in dec_modes.items()]\n",
    "mode_infos.append((\"all_modes\", all_mode_ids))"
   ]
  },
  {
   "cell_type": "code",
   "execution_count": 41,
   "metadata": {
    "ExecuteTime": {
     "end_time": "2020-01-24T14:19:34.844011Z",
     "start_time": "2020-01-24T14:19:34.564476Z"
    }
   },
   "outputs": [
    {
     "data": {
      "text/plain": [
       "{'CBKG': 434.9056064855275,\n",
       " 'DSSl': 652.9521805205375,\n",
       " 'DSSlbkg': 645.2327974925845,\n",
       " 'DSl': 13420.215806255854,\n",
       " 'DStau': 14.513464876134446,\n",
       " 'Dl': 12659.125273865899,\n",
       " 'Dtau': 38.92100402643404,\n",
       " 'GBKG': 771.2326049117166,\n",
       " 'HBKG': 295.08771607495316}"
      ]
     },
     "execution_count": 41,
     "metadata": {},
     "output_type": "execute_result"
    }
   ],
   "source": [
    "initial_yield_dict = {}\n",
    "\n",
    "for comp in plot_order:\n",
    "    reco_id = rdstar_sig_queries[comp][\"id\"]\n",
    "    \n",
    "    sig_id_constraint = df_mc.SIG_ID == reco_id\n",
    "    mode_constraint = df_mc.daughter__bo1__cm__spextraInfo__bodecayModeID__bc__bc.isin(all_mode_ids)\n",
    "    \n",
    "    initial_yield_dict[comp] = df_mc.loc[sig_id_constraint & mode_constraint, weight_col_for_fit].sum()\n",
    "    \n",
    "initial_yield_dict"
   ]
  },
  {
   "cell_type": "code",
   "execution_count": 42,
   "metadata": {
    "ExecuteTime": {
     "end_time": "2020-01-24T14:19:35.478170Z",
     "start_time": "2020-01-24T14:19:34.849370Z"
    }
   },
   "outputs": [
    {
     "data": {
      "text/plain": [
       "defaultdict(dict,\n",
       "            {'CBKG': {'DM': 0.2681825350594674,\n",
       "              'DSM': 0.038918153570041254,\n",
       "              'DSZ': 0.23421662876235125,\n",
       "              'DZ': 0.45868268260814005,\n",
       "              'all_modes': 1.0},\n",
       "             'DSSl': {'DM': 0.1611517616683974,\n",
       "              'DSM': 0.08209521970758203,\n",
       "              'DSZ': 0.32386011070707316,\n",
       "              'DZ': 0.4328929079169474,\n",
       "              'all_modes': 1.0},\n",
       "             'DSSlbkg': {'DM': 0.3325347881670314,\n",
       "              'DSM': 0.15137700659148956,\n",
       "              'DSZ': 0.19971317298588515,\n",
       "              'DZ': 0.31637503225559394,\n",
       "              'all_modes': 1.0},\n",
       "             'DSl': {'DM': 0.07751103431557445,\n",
       "              'DSM': 0.15129756877628933,\n",
       "              'DSZ': 0.368018725982034,\n",
       "              'DZ': 0.4031726709261024,\n",
       "              'all_modes': 1.0},\n",
       "             'DStau': {'DM': 0.02902078118888379,\n",
       "              'DSM': 0.18968573137848319,\n",
       "              'DSZ': 0.7048394447866552,\n",
       "              'DZ': 0.07645404264597777,\n",
       "              'all_modes': 1.0},\n",
       "             'Dl': {'DM': 0.2768255491507,\n",
       "              'DSM': 0.0034189657493265,\n",
       "              'DSZ': 0.12101482436297117,\n",
       "              'DZ': 0.5987406607370023,\n",
       "              'all_modes': 1.0},\n",
       "             'Dtau': {'DM': 0.19762058760594228,\n",
       "              'DSM': 0.014590000757352306,\n",
       "              'DSZ': 0.3463909583029143,\n",
       "              'DZ': 0.4413984533337912,\n",
       "              'all_modes': 1.0},\n",
       "             'GBKG': {'DM': 0.24632866888535337,\n",
       "              'DSM': 0.06249687437055489,\n",
       "              'DSZ': 0.29711390629740425,\n",
       "              'DZ': 0.3940605504466874,\n",
       "              'all_modes': 1.0},\n",
       "             'HBKG': {'DM': 0.21178774237201395,\n",
       "              'DSM': 0.06662631771819173,\n",
       "              'DSZ': 0.2671805574296414,\n",
       "              'DZ': 0.45440538248015294,\n",
       "              'all_modes': 1.0}})"
      ]
     },
     "execution_count": 42,
     "metadata": {},
     "output_type": "execute_result"
    }
   ],
   "source": [
    "initial_eff_dict = defaultdict(dict)\n",
    "\n",
    "for comp in plot_order:\n",
    "    for mode_name, mode_ids in mode_infos:\n",
    "        reco_id = rdstar_sig_queries[comp][\"id\"]\n",
    "    \n",
    "        sig_id_constraint = df_mc.SIG_ID == reco_id\n",
    "        mode_constraint = df_mc.daughter__bo1__cm__spextraInfo__bodecayModeID__bc__bc.isin(mode_ids)\n",
    "\n",
    "        count_in_mode = df_mc.loc[sig_id_constraint & mode_constraint, weight_col_for_fit].sum()\n",
    "        \n",
    "        initial_eff_dict[comp][mode_name] = count_in_mode * 1. / initial_yield_dict[comp]\n",
    "\n",
    "initial_eff_dict"
   ]
  },
  {
   "cell_type": "code",
   "execution_count": 43,
   "metadata": {
    "ExecuteTime": {
     "end_time": "2020-01-24T14:19:35.513579Z",
     "start_time": "2020-01-24T14:19:35.479426Z"
    }
   },
   "outputs": [],
   "source": [
    "param_handler = ParameterHandler()\n",
    "my_fit_model = FitModel(parameter_handler=param_handler)"
   ]
  },
  {
   "cell_type": "markdown",
   "metadata": {},
   "source": [
    "## Defining MC Templates of FitModel"
   ]
  },
  {
   "cell_type": "code",
   "execution_count": 44,
   "metadata": {
    "ExecuteTime": {
     "end_time": "2020-01-24T14:19:59.647130Z",
     "start_time": "2020-01-24T14:19:35.516865Z"
    }
   },
   "outputs": [
    {
     "name": "stderr",
     "output_type": "stream",
     "text": [
      "INFO:root:Created 22 bin nuisance ModelParameters for template 'DZ_CBKG' (serial no: 0) with 22 bins and shape (22,).\n",
      "Bin nuisance parameter indices = [9, 10, 11, 12, 13, 14, 15, 16, 17, 18, 19, 20, 21, 22, 23, 24, 25, 26, 27, 28, 29, 30]\n",
      "INFO:root:Created 22 bin nuisance ModelParameters for template 'DZ_GBKG' (serial no: 1) with 22 bins and shape (22,).\n",
      "Bin nuisance parameter indices = [32, 33, 34, 35, 36, 37, 38, 39, 40, 41, 42, 43, 44, 45, 46, 47, 48, 49, 50, 51, 52, 53]\n",
      "INFO:root:Created 22 bin nuisance ModelParameters for template 'DZ_HBKG' (serial no: 2) with 22 bins and shape (22,).\n",
      "Bin nuisance parameter indices = [55, 56, 57, 58, 59, 60, 61, 62, 63, 64, 65, 66, 67, 68, 69, 70, 71, 72, 73, 74, 75, 76]\n",
      "INFO:root:Created 22 bin nuisance ModelParameters for template 'DZ_DSSlbkg' (serial no: 3) with 22 bins and shape (22,).\n",
      "Bin nuisance parameter indices = [78, 79, 80, 81, 82, 83, 84, 85, 86, 87, 88, 89, 90, 91, 92, 93, 94, 95, 96, 97, 98, 99]\n",
      "INFO:root:Created 22 bin nuisance ModelParameters for template 'DZ_DSSl' (serial no: 4) with 22 bins and shape (22,).\n",
      "Bin nuisance parameter indices = [101, 102, 103, 104, 105, 106, 107, 108, 109, 110, 111, 112, 113, 114, 115, 116, 117, 118, 119, 120, 121, 122]\n",
      "INFO:root:Created 22 bin nuisance ModelParameters for template 'DZ_DSl' (serial no: 5) with 22 bins and shape (22,).\n",
      "Bin nuisance parameter indices = [124, 125, 126, 127, 128, 129, 130, 131, 132, 133, 134, 135, 136, 137, 138, 139, 140, 141, 142, 143, 144, 145]\n",
      "INFO:root:Created 22 bin nuisance ModelParameters for template 'DZ_Dl' (serial no: 6) with 22 bins and shape (22,).\n",
      "Bin nuisance parameter indices = [147, 148, 149, 150, 151, 152, 153, 154, 155, 156, 157, 158, 159, 160, 161, 162, 163, 164, 165, 166, 167, 168]\n",
      "INFO:root:Created 22 bin nuisance ModelParameters for template 'DZ_DStau' (serial no: 7) with 22 bins and shape (22,).\n",
      "Bin nuisance parameter indices = [170, 171, 172, 173, 174, 175, 176, 177, 178, 179, 180, 181, 182, 183, 184, 185, 186, 187, 188, 189, 190, 191]\n",
      "INFO:root:Created 22 bin nuisance ModelParameters for template 'DZ_Dtau' (serial no: 8) with 22 bins and shape (22,).\n",
      "Bin nuisance parameter indices = [193, 194, 195, 196, 197, 198, 199, 200, 201, 202, 203, 204, 205, 206, 207, 208, 209, 210, 211, 212, 213, 214]\n",
      "INFO:root:New component with name component_from_template_DZ_CBKG and serial_number 0 was created and added directly from single template (serial_number: 0, name: DZ_CBKG, provided via the template serial number as 'temp_0').\n",
      "INFO:root:New component with name component_from_template_DZ_GBKG and serial_number 1 was created and added directly from single template (serial_number: 1, name: DZ_GBKG, provided via the template serial number as 'temp_1').\n",
      "INFO:root:New component with name component_from_template_DZ_HBKG and serial_number 2 was created and added directly from single template (serial_number: 2, name: DZ_HBKG, provided via the template serial number as 'temp_2').\n",
      "INFO:root:New component with name component_from_template_DZ_DSSlbkg and serial_number 3 was created and added directly from single template (serial_number: 3, name: DZ_DSSlbkg, provided via the template serial number as 'temp_3').\n",
      "INFO:root:New component with name component_from_template_DZ_DSSl and serial_number 4 was created and added directly from single template (serial_number: 4, name: DZ_DSSl, provided via the template serial number as 'temp_4').\n",
      "INFO:root:New component with name component_from_template_DZ_DSl and serial_number 5 was created and added directly from single template (serial_number: 5, name: DZ_DSl, provided via the template serial number as 'temp_5').\n",
      "INFO:root:New component with name component_from_template_DZ_Dl and serial_number 6 was created and added directly from single template (serial_number: 6, name: DZ_Dl, provided via the template serial number as 'temp_6').\n",
      "INFO:root:New component with name component_from_template_DZ_DStau and serial_number 7 was created and added directly from single template (serial_number: 7, name: DZ_DStau, provided via the template serial number as 'temp_7').\n",
      "INFO:root:New component with name component_from_template_DZ_Dtau and serial_number 8 was created and added directly from single template (serial_number: 8, name: DZ_Dtau, provided via the template serial number as 'temp_8').\n",
      "INFO:root:Created 20 bin nuisance ModelParameters for template 'DM_CBKG' (serial no: 9) with 20 bins and shape (20,).\n",
      "Bin nuisance parameter indices = [216, 217, 218, 219, 220, 221, 222, 223, 224, 225, 226, 227, 228, 229, 230, 231, 232, 233, 234, 235]\n",
      "INFO:root:Created 20 bin nuisance ModelParameters for template 'DM_GBKG' (serial no: 10) with 20 bins and shape (20,).\n",
      "Bin nuisance parameter indices = [237, 238, 239, 240, 241, 242, 243, 244, 245, 246, 247, 248, 249, 250, 251, 252, 253, 254, 255, 256]\n",
      "INFO:root:Created 20 bin nuisance ModelParameters for template 'DM_HBKG' (serial no: 11) with 20 bins and shape (20,).\n",
      "Bin nuisance parameter indices = [258, 259, 260, 261, 262, 263, 264, 265, 266, 267, 268, 269, 270, 271, 272, 273, 274, 275, 276, 277]\n",
      "INFO:root:Created 20 bin nuisance ModelParameters for template 'DM_DSSlbkg' (serial no: 12) with 20 bins and shape (20,).\n",
      "Bin nuisance parameter indices = [279, 280, 281, 282, 283, 284, 285, 286, 287, 288, 289, 290, 291, 292, 293, 294, 295, 296, 297, 298]\n",
      "INFO:root:Created 20 bin nuisance ModelParameters for template 'DM_DSSl' (serial no: 13) with 20 bins and shape (20,).\n",
      "Bin nuisance parameter indices = [300, 301, 302, 303, 304, 305, 306, 307, 308, 309, 310, 311, 312, 313, 314, 315, 316, 317, 318, 319]\n",
      "INFO:root:Created 20 bin nuisance ModelParameters for template 'DM_DSl' (serial no: 14) with 20 bins and shape (20,).\n",
      "Bin nuisance parameter indices = [321, 322, 323, 324, 325, 326, 327, 328, 329, 330, 331, 332, 333, 334, 335, 336, 337, 338, 339, 340]\n",
      "INFO:root:Created 20 bin nuisance ModelParameters for template 'DM_Dl' (serial no: 15) with 20 bins and shape (20,).\n",
      "Bin nuisance parameter indices = [342, 343, 344, 345, 346, 347, 348, 349, 350, 351, 352, 353, 354, 355, 356, 357, 358, 359, 360, 361]\n",
      "INFO:root:Created 20 bin nuisance ModelParameters for template 'DM_DStau' (serial no: 16) with 20 bins and shape (20,).\n",
      "Bin nuisance parameter indices = [363, 364, 365, 366, 367, 368, 369, 370, 371, 372, 373, 374, 375, 376, 377, 378, 379, 380, 381, 382]\n",
      "INFO:root:Created 20 bin nuisance ModelParameters for template 'DM_Dtau' (serial no: 17) with 20 bins and shape (20,).\n",
      "Bin nuisance parameter indices = [384, 385, 386, 387, 388, 389, 390, 391, 392, 393, 394, 395, 396, 397, 398, 399, 400, 401, 402, 403]\n",
      "INFO:root:New component with name component_from_template_DM_CBKG and serial_number 9 was created and added directly from single template (serial_number: 9, name: DM_CBKG, provided via the template serial number as 'temp_9').\n",
      "INFO:root:New component with name component_from_template_DM_GBKG and serial_number 10 was created and added directly from single template (serial_number: 10, name: DM_GBKG, provided via the template serial number as 'temp_10').\n",
      "INFO:root:New component with name component_from_template_DM_HBKG and serial_number 11 was created and added directly from single template (serial_number: 11, name: DM_HBKG, provided via the template serial number as 'temp_11').\n",
      "INFO:root:New component with name component_from_template_DM_DSSlbkg and serial_number 12 was created and added directly from single template (serial_number: 12, name: DM_DSSlbkg, provided via the template serial number as 'temp_12').\n",
      "INFO:root:New component with name component_from_template_DM_DSSl and serial_number 13 was created and added directly from single template (serial_number: 13, name: DM_DSSl, provided via the template serial number as 'temp_13').\n",
      "INFO:root:New component with name component_from_template_DM_DSl and serial_number 14 was created and added directly from single template (serial_number: 14, name: DM_DSl, provided via the template serial number as 'temp_14').\n",
      "INFO:root:New component with name component_from_template_DM_Dl and serial_number 15 was created and added directly from single template (serial_number: 15, name: DM_Dl, provided via the template serial number as 'temp_15').\n",
      "INFO:root:New component with name component_from_template_DM_DStau and serial_number 16 was created and added directly from single template (serial_number: 16, name: DM_DStau, provided via the template serial number as 'temp_16').\n",
      "INFO:root:New component with name component_from_template_DM_Dtau and serial_number 17 was created and added directly from single template (serial_number: 17, name: DM_Dtau, provided via the template serial number as 'temp_17').\n",
      "INFO:root:Created 22 bin nuisance ModelParameters for template 'DSZ_CBKG' (serial no: 18) with 22 bins and shape (22,).\n",
      "Bin nuisance parameter indices = [405, 406, 407, 408, 409, 410, 411, 412, 413, 414, 415, 416, 417, 418, 419, 420, 421, 422, 423, 424, 425, 426]\n",
      "INFO:root:Created 22 bin nuisance ModelParameters for template 'DSZ_GBKG' (serial no: 19) with 22 bins and shape (22,).\n",
      "Bin nuisance parameter indices = [428, 429, 430, 431, 432, 433, 434, 435, 436, 437, 438, 439, 440, 441, 442, 443, 444, 445, 446, 447, 448, 449]\n",
      "INFO:root:Created 22 bin nuisance ModelParameters for template 'DSZ_HBKG' (serial no: 20) with 22 bins and shape (22,).\n",
      "Bin nuisance parameter indices = [451, 452, 453, 454, 455, 456, 457, 458, 459, 460, 461, 462, 463, 464, 465, 466, 467, 468, 469, 470, 471, 472]\n",
      "INFO:root:Created 22 bin nuisance ModelParameters for template 'DSZ_DSSlbkg' (serial no: 21) with 22 bins and shape (22,).\n",
      "Bin nuisance parameter indices = [474, 475, 476, 477, 478, 479, 480, 481, 482, 483, 484, 485, 486, 487, 488, 489, 490, 491, 492, 493, 494, 495]\n",
      "INFO:root:Created 22 bin nuisance ModelParameters for template 'DSZ_DSSl' (serial no: 22) with 22 bins and shape (22,).\n",
      "Bin nuisance parameter indices = [497, 498, 499, 500, 501, 502, 503, 504, 505, 506, 507, 508, 509, 510, 511, 512, 513, 514, 515, 516, 517, 518]\n",
      "INFO:root:Created 22 bin nuisance ModelParameters for template 'DSZ_DSl' (serial no: 23) with 22 bins and shape (22,).\n",
      "Bin nuisance parameter indices = [520, 521, 522, 523, 524, 525, 526, 527, 528, 529, 530, 531, 532, 533, 534, 535, 536, 537, 538, 539, 540, 541]\n",
      "INFO:root:Created 22 bin nuisance ModelParameters for template 'DSZ_Dl' (serial no: 24) with 22 bins and shape (22,).\n",
      "Bin nuisance parameter indices = [543, 544, 545, 546, 547, 548, 549, 550, 551, 552, 553, 554, 555, 556, 557, 558, 559, 560, 561, 562, 563, 564]\n",
      "INFO:root:Created 22 bin nuisance ModelParameters for template 'DSZ_DStau' (serial no: 25) with 22 bins and shape (22,).\n",
      "Bin nuisance parameter indices = [566, 567, 568, 569, 570, 571, 572, 573, 574, 575, 576, 577, 578, 579, 580, 581, 582, 583, 584, 585, 586, 587]\n",
      "INFO:root:Created 22 bin nuisance ModelParameters for template 'DSZ_Dtau' (serial no: 26) with 22 bins and shape (22,).\n",
      "Bin nuisance parameter indices = [589, 590, 591, 592, 593, 594, 595, 596, 597, 598, 599, 600, 601, 602, 603, 604, 605, 606, 607, 608, 609, 610]\n",
      "INFO:root:New component with name component_from_template_DSZ_CBKG and serial_number 18 was created and added directly from single template (serial_number: 18, name: DSZ_CBKG, provided via the template serial number as 'temp_18').\n",
      "INFO:root:New component with name component_from_template_DSZ_GBKG and serial_number 19 was created and added directly from single template (serial_number: 19, name: DSZ_GBKG, provided via the template serial number as 'temp_19').\n",
      "INFO:root:New component with name component_from_template_DSZ_HBKG and serial_number 20 was created and added directly from single template (serial_number: 20, name: DSZ_HBKG, provided via the template serial number as 'temp_20').\n",
      "INFO:root:New component with name component_from_template_DSZ_DSSlbkg and serial_number 21 was created and added directly from single template (serial_number: 21, name: DSZ_DSSlbkg, provided via the template serial number as 'temp_21').\n",
      "INFO:root:New component with name component_from_template_DSZ_DSSl and serial_number 22 was created and added directly from single template (serial_number: 22, name: DSZ_DSSl, provided via the template serial number as 'temp_22').\n",
      "INFO:root:New component with name component_from_template_DSZ_DSl and serial_number 23 was created and added directly from single template (serial_number: 23, name: DSZ_DSl, provided via the template serial number as 'temp_23').\n",
      "INFO:root:New component with name component_from_template_DSZ_Dl and serial_number 24 was created and added directly from single template (serial_number: 24, name: DSZ_Dl, provided via the template serial number as 'temp_24').\n",
      "INFO:root:New component with name component_from_template_DSZ_DStau and serial_number 25 was created and added directly from single template (serial_number: 25, name: DSZ_DStau, provided via the template serial number as 'temp_25').\n",
      "INFO:root:New component with name component_from_template_DSZ_Dtau and serial_number 26 was created and added directly from single template (serial_number: 26, name: DSZ_Dtau, provided via the template serial number as 'temp_26').\n",
      "INFO:root:Created 17 bin nuisance ModelParameters for template 'DSM_CBKG' (serial no: 27) with 17 bins and shape (17,).\n",
      "Bin nuisance parameter indices = [612, 613, 614, 615, 616, 617, 618, 619, 620, 621, 622, 623, 624, 625, 626, 627, 628]\n",
      "INFO:root:Created 17 bin nuisance ModelParameters for template 'DSM_GBKG' (serial no: 28) with 17 bins and shape (17,).\n",
      "Bin nuisance parameter indices = [630, 631, 632, 633, 634, 635, 636, 637, 638, 639, 640, 641, 642, 643, 644, 645, 646]\n",
      "INFO:root:Created 17 bin nuisance ModelParameters for template 'DSM_HBKG' (serial no: 29) with 17 bins and shape (17,).\n",
      "Bin nuisance parameter indices = [648, 649, 650, 651, 652, 653, 654, 655, 656, 657, 658, 659, 660, 661, 662, 663, 664]\n",
      "INFO:root:Created 17 bin nuisance ModelParameters for template 'DSM_DSSlbkg' (serial no: 30) with 17 bins and shape (17,).\n",
      "Bin nuisance parameter indices = [666, 667, 668, 669, 670, 671, 672, 673, 674, 675, 676, 677, 678, 679, 680, 681, 682]\n",
      "INFO:root:Created 17 bin nuisance ModelParameters for template 'DSM_DSSl' (serial no: 31) with 17 bins and shape (17,).\n",
      "Bin nuisance parameter indices = [684, 685, 686, 687, 688, 689, 690, 691, 692, 693, 694, 695, 696, 697, 698, 699, 700]\n",
      "INFO:root:Created 17 bin nuisance ModelParameters for template 'DSM_DSl' (serial no: 32) with 17 bins and shape (17,).\n",
      "Bin nuisance parameter indices = [702, 703, 704, 705, 706, 707, 708, 709, 710, 711, 712, 713, 714, 715, 716, 717, 718]\n",
      "INFO:root:Created 17 bin nuisance ModelParameters for template 'DSM_Dl' (serial no: 33) with 17 bins and shape (17,).\n",
      "Bin nuisance parameter indices = [720, 721, 722, 723, 724, 725, 726, 727, 728, 729, 730, 731, 732, 733, 734, 735, 736]\n",
      "INFO:root:Created 17 bin nuisance ModelParameters for template 'DSM_DStau' (serial no: 34) with 17 bins and shape (17,).\n",
      "Bin nuisance parameter indices = [738, 739, 740, 741, 742, 743, 744, 745, 746, 747, 748, 749, 750, 751, 752, 753, 754]\n",
      "INFO:root:Created 17 bin nuisance ModelParameters for template 'DSM_Dtau' (serial no: 35) with 17 bins and shape (17,).\n",
      "Bin nuisance parameter indices = [756, 757, 758, 759, 760, 761, 762, 763, 764, 765, 766, 767, 768, 769, 770, 771, 772]\n",
      "INFO:root:New component with name component_from_template_DSM_CBKG and serial_number 27 was created and added directly from single template (serial_number: 27, name: DSM_CBKG, provided via the template serial number as 'temp_27').\n",
      "INFO:root:New component with name component_from_template_DSM_GBKG and serial_number 28 was created and added directly from single template (serial_number: 28, name: DSM_GBKG, provided via the template serial number as 'temp_28').\n",
      "INFO:root:New component with name component_from_template_DSM_HBKG and serial_number 29 was created and added directly from single template (serial_number: 29, name: DSM_HBKG, provided via the template serial number as 'temp_29').\n",
      "INFO:root:New component with name component_from_template_DSM_DSSlbkg and serial_number 30 was created and added directly from single template (serial_number: 30, name: DSM_DSSlbkg, provided via the template serial number as 'temp_30').\n",
      "INFO:root:New component with name component_from_template_DSM_DSSl and serial_number 31 was created and added directly from single template (serial_number: 31, name: DSM_DSSl, provided via the template serial number as 'temp_31').\n",
      "INFO:root:New component with name component_from_template_DSM_DSl and serial_number 32 was created and added directly from single template (serial_number: 32, name: DSM_DSl, provided via the template serial number as 'temp_32').\n",
      "INFO:root:New component with name component_from_template_DSM_Dl and serial_number 33 was created and added directly from single template (serial_number: 33, name: DSM_Dl, provided via the template serial number as 'temp_33').\n",
      "INFO:root:New component with name component_from_template_DSM_DStau and serial_number 34 was created and added directly from single template (serial_number: 34, name: DSM_DStau, provided via the template serial number as 'temp_34').\n",
      "INFO:root:New component with name component_from_template_DSM_Dtau and serial_number 35 was created and added directly from single template (serial_number: 35, name: DSM_Dtau, provided via the template serial number as 'temp_35').\n"
     ]
    }
   ],
   "source": [
    "for comp in plot_order:\n",
    "    my_fit_model.add_model_parameter(\n",
    "        name=f\"yield_{comp}\",\n",
    "        parameter_type=ParameterHandler.yield_parameter_type,\n",
    "        floating=True,\n",
    "        initial_value=initial_yield_dict[comp],\n",
    "        constrain_to_value=None,\n",
    "        constraint_sigma=None\n",
    "    )\n",
    "    \n",
    "channel_templates = defaultdict(list)\n",
    "channel_eff_parameters = defaultdict(list)\n",
    "\n",
    "for mode_name, mode_ids in mode_infos:\n",
    "    if mode_name == \"all_modes\":\n",
    "        continue\n",
    "        \n",
    "    for comp in plot_order:\n",
    "        reco_id = rdstar_sig_queries[comp][\"id\"]\n",
    "        \n",
    "        template = Template(\n",
    "            name=f\"{mode_name}_{comp}\",\n",
    "            latex_label=sig_id_to_label[reco_id],\n",
    "            color=get_rdstar_color_dict()[reco_id],\n",
    "            process_name=comp,\n",
    "            dimensions=1,\n",
    "            bins=(rdstar_miss_mass_binning_for_dec_modes[mode_name]),#, 2, 2),\n",
    "            scope=(m_miss_sb_info.hist_var.scope),#, pStarL_sb_info.hist_var.scope, miss_mom_sb_info.hist_var.scope),\n",
    "            params=param_handler,\n",
    "            data_column_names=[m_miss_sb_info.hist_var.df_label],#, pStarL_sb_info.hist_var.df_label, miss_mom_sb_info.hist_var.df_label],\n",
    "            data=df_mc.loc[\n",
    "        df_mc.daughter__bo1__cm__spextraInfo__bodecayModeID__bc__bc.isin(mode_ids)\n",
    "            ].query(f\"SIG_ID == {reco_id}\"),\n",
    "            weights=weight_col_for_fit,\n",
    "            systematics=get_systematics(df=df_mc, sys_cols_infos=full_systematics_cols),\n",
    "            log_scale_mask=False\n",
    "        )\n",
    "        \n",
    "        template_id = my_fit_model.add_template(\n",
    "            template=template,\n",
    "            yield_parameter=f\"yield_{comp}\",\n",
    "            use_other_systematics=True\n",
    "        )\n",
    "        channel_templates[mode_name].append(f\"temp_{template_id}\")\n",
    "        \n",
    "        eff_param_name = f\"eff_{mode_name}_{comp}\"\n",
    "        my_fit_model.add_model_parameter(\n",
    "            name=eff_param_name,\n",
    "            parameter_type=\"efficiency\",\n",
    "            floating=False,\n",
    "            initial_value=initial_eff_dict[comp][mode_name],\n",
    "            constrain_to_value=initial_eff_dict[comp][mode_name],\n",
    "            constraint_sigma=0.1\n",
    "        )\n",
    "        channel_eff_parameters[mode_name].append(eff_param_name)\n",
    "        \n",
    "    my_fit_model.add_channel(\n",
    "            efficiency_parameters=channel_eff_parameters[mode_name],\n",
    "            name=mode_name,\n",
    "            components=channel_templates[mode_name],\n",
    "    )"
   ]
  },
  {
   "cell_type": "markdown",
   "metadata": {},
   "source": [
    "## Adding Data to FitModel"
   ]
  },
  {
   "cell_type": "code",
   "execution_count": 45,
   "metadata": {
    "ExecuteTime": {
     "end_time": "2020-01-24T14:20:01.818388Z",
     "start_time": "2020-01-24T14:19:59.648536Z"
    }
   },
   "outputs": [
    {
     "name": "stderr",
     "output_type": "stream",
     "text": [
      "WARNING:root:You are adding weights to your data! This should only be done for evaluation on MC (e.g. for Asimov fits or toy studies) so be sure to check if this is the case!\n"
     ]
    }
   ],
   "source": [
    "data_channel_infos = {}\n",
    "data_channel_weight_infos = {}\n",
    "for mode_name, mode_ids in mode_infos:\n",
    "    if mode_name == \"all_modes\":\n",
    "        continue\n",
    "    data_channel_infos.update({\n",
    "        f\"{mode_name}\":\n",
    "        df_mc.loc[df_mc.daughter__bo1__cm__spextraInfo__bodecayModeID__bc__bc.isin(mode_ids)]\n",
    "    })\n",
    "    \n",
    "    data_channel_weight_infos.update({f\"{mode_name}\": weight_col_for_fit})\n",
    "\n",
    "my_fit_model.add_data(channels=data_channel_infos, channel_weights=data_channel_weight_infos)"
   ]
  },
  {
   "cell_type": "code",
   "execution_count": 46,
   "metadata": {
    "ExecuteTime": {
     "end_time": "2020-01-24T14:20:05.339553Z",
     "start_time": "2020-01-24T14:20:01.819739Z"
    }
   },
   "outputs": [
    {
     "name": "stderr",
     "output_type": "stream",
     "text": [
      "INFO:root:Fraction parameters are not used, as no templates of the same channel share a common yield parameter.\n",
      "INFO:root:Channel 0: 'DZ\n",
      "\tComponent 0: 'component_from_template_DZ_CBKG\n",
      "\t\tTemplate 0: 'DZ_CBKG (Process: CBKG)\n",
      "\tComponent 1: 'component_from_template_DZ_GBKG\n",
      "\t\tTemplate 0: 'DZ_GBKG (Process: GBKG)\n",
      "\tComponent 2: 'component_from_template_DZ_HBKG\n",
      "\t\tTemplate 0: 'DZ_HBKG (Process: HBKG)\n",
      "\tComponent 3: 'component_from_template_DZ_DSSlbkg\n",
      "\t\tTemplate 0: 'DZ_DSSlbkg (Process: DSSlbkg)\n",
      "\tComponent 4: 'component_from_template_DZ_DSSl\n",
      "\t\tTemplate 0: 'DZ_DSSl (Process: DSSl)\n",
      "\tComponent 5: 'component_from_template_DZ_DSl\n",
      "\t\tTemplate 0: 'DZ_DSl (Process: DSl)\n",
      "\tComponent 6: 'component_from_template_DZ_Dl\n",
      "\t\tTemplate 0: 'DZ_Dl (Process: Dl)\n",
      "\tComponent 7: 'component_from_template_DZ_DStau\n",
      "\t\tTemplate 0: 'DZ_DStau (Process: DStau)\n",
      "\tComponent 8: 'component_from_template_DZ_Dtau\n",
      "\t\tTemplate 0: 'DZ_Dtau (Process: Dtau)\n",
      "Channel 1: 'DM\n",
      "\tComponent 0: 'component_from_template_DM_CBKG\n",
      "\t\tTemplate 0: 'DM_CBKG (Process: CBKG)\n",
      "\tComponent 1: 'component_from_template_DM_GBKG\n",
      "\t\tTemplate 0: 'DM_GBKG (Process: GBKG)\n",
      "\tComponent 2: 'component_from_template_DM_HBKG\n",
      "\t\tTemplate 0: 'DM_HBKG (Process: HBKG)\n",
      "\tComponent 3: 'component_from_template_DM_DSSlbkg\n",
      "\t\tTemplate 0: 'DM_DSSlbkg (Process: DSSlbkg)\n",
      "\tComponent 4: 'component_from_template_DM_DSSl\n",
      "\t\tTemplate 0: 'DM_DSSl (Process: DSSl)\n",
      "\tComponent 5: 'component_from_template_DM_DSl\n",
      "\t\tTemplate 0: 'DM_DSl (Process: DSl)\n",
      "\tComponent 6: 'component_from_template_DM_Dl\n",
      "\t\tTemplate 0: 'DM_Dl (Process: Dl)\n",
      "\tComponent 7: 'component_from_template_DM_DStau\n",
      "\t\tTemplate 0: 'DM_DStau (Process: DStau)\n",
      "\tComponent 8: 'component_from_template_DM_Dtau\n",
      "\t\tTemplate 0: 'DM_Dtau (Process: Dtau)\n",
      "Channel 2: 'DSZ\n",
      "\tComponent 0: 'component_from_template_DSZ_CBKG\n",
      "\t\tTemplate 0: 'DSZ_CBKG (Process: CBKG)\n",
      "\tComponent 1: 'component_from_template_DSZ_GBKG\n",
      "\t\tTemplate 0: 'DSZ_GBKG (Process: GBKG)\n",
      "\tComponent 2: 'component_from_template_DSZ_HBKG\n",
      "\t\tTemplate 0: 'DSZ_HBKG (Process: HBKG)\n",
      "\tComponent 3: 'component_from_template_DSZ_DSSlbkg\n",
      "\t\tTemplate 0: 'DSZ_DSSlbkg (Process: DSSlbkg)\n",
      "\tComponent 4: 'component_from_template_DSZ_DSSl\n",
      "\t\tTemplate 0: 'DSZ_DSSl (Process: DSSl)\n",
      "\tComponent 5: 'component_from_template_DSZ_DSl\n",
      "\t\tTemplate 0: 'DSZ_DSl (Process: DSl)\n",
      "\tComponent 6: 'component_from_template_DSZ_Dl\n",
      "\t\tTemplate 0: 'DSZ_Dl (Process: Dl)\n",
      "\tComponent 7: 'component_from_template_DSZ_DStau\n",
      "\t\tTemplate 0: 'DSZ_DStau (Process: DStau)\n",
      "\tComponent 8: 'component_from_template_DSZ_Dtau\n",
      "\t\tTemplate 0: 'DSZ_Dtau (Process: Dtau)\n",
      "Channel 3: 'DSM\n",
      "\tComponent 0: 'component_from_template_DSM_CBKG\n",
      "\t\tTemplate 0: 'DSM_CBKG (Process: CBKG)\n",
      "\tComponent 1: 'component_from_template_DSM_GBKG\n",
      "\t\tTemplate 0: 'DSM_GBKG (Process: GBKG)\n",
      "\tComponent 2: 'component_from_template_DSM_HBKG\n",
      "\t\tTemplate 0: 'DSM_HBKG (Process: HBKG)\n",
      "\tComponent 3: 'component_from_template_DSM_DSSlbkg\n",
      "\t\tTemplate 0: 'DSM_DSSlbkg (Process: DSSlbkg)\n",
      "\tComponent 4: 'component_from_template_DSM_DSSl\n",
      "\t\tTemplate 0: 'DSM_DSSl (Process: DSSl)\n",
      "\tComponent 5: 'component_from_template_DSM_DSl\n",
      "\t\tTemplate 0: 'DSM_DSl (Process: DSl)\n",
      "\tComponent 6: 'component_from_template_DSM_Dl\n",
      "\t\tTemplate 0: 'DSM_Dl (Process: Dl)\n",
      "\tComponent 7: 'component_from_template_DSM_DStau\n",
      "\t\tTemplate 0: 'DSM_DStau (Process: DStau)\n",
      "\tComponent 8: 'component_from_template_DSM_Dtau\n",
      "\t\tTemplate 0: 'DSM_Dtau (Process: Dtau)\n",
      "\n"
     ]
    }
   ],
   "source": [
    "my_fit_model.finalize_model()"
   ]
  },
  {
   "cell_type": "markdown",
   "metadata": {},
   "source": [
    "## Test FitResultPlotter with initial values"
   ]
  },
  {
   "cell_type": "code",
   "execution_count": 47,
   "metadata": {
    "ExecuteTime": {
     "end_time": "2020-01-24T14:20:05.392022Z",
     "start_time": "2020-01-24T14:20:05.343603Z"
    }
   },
   "outputs": [],
   "source": [
    "from templatefitter.plotter.fit_result_plots import FitResultPlotter"
   ]
  },
  {
   "cell_type": "code",
   "execution_count": 48,
   "metadata": {
    "ExecuteTime": {
     "end_time": "2020-01-24T14:20:05.415916Z",
     "start_time": "2020-01-24T14:20:05.393417Z"
    }
   },
   "outputs": [],
   "source": [
    "my_result_plotter = FitResultPlotter(\n",
    "    variable=m_miss_sb_info.hist_var,\n",
    "    fit_model=my_fit_model,\n",
    "    reference_dimension=0,\n",
    "    involved_hist_variables=[m_miss_sb_info.hist_var, pStarL_sb_info.hist_var, miss_mom_sb_info.hist_var],\n",
    "    channel_label_dict=dec_titles,\n",
    "    data_label=\"Asimov Data\"\n",
    ")"
   ]
  },
  {
   "cell_type": "code",
   "execution_count": 49,
   "metadata": {
    "ExecuteTime": {
     "end_time": "2020-01-24T14:20:10.640297Z",
     "start_time": "2020-01-24T14:20:05.417679Z"
    },
    "scrolled": true
   },
   "outputs": [
    {
     "data": {
      "image/png": "[encoded data removed]",
      "text/plain": [
       "<Figure size 1000x1000 with 1 Axes>"
      ]
     },
     "metadata": {},
     "output_type": "display_data"
    },
    {
     "data": {
      "image/png": "[encoded data removed]",
      "text/plain": [
       "<Figure size 1000x1000 with 1 Axes>"
      ]
     },
     "metadata": {},
     "output_type": "display_data"
    },
    {
     "data": {
      "image/png": "[encoded data removed]",
      "text/plain": [
       "<Figure size 1000x1000 with 1 Axes>"
      ]
     },
     "metadata": {},
     "output_type": "display_data"
    },
    {
     "data": {
      "image/png": "[encoded data removed]",
      "text/plain": [
       "<Figure size 1000x1000 with 1 Axes>"
      ]
     },
     "metadata": {},
     "output_type": "display_data"
    }
   ],
   "source": [
    "my_result_plotter.plot_fit_result(use_initial_values=True)"
   ]
  },
  {
   "cell_type": "markdown",
   "metadata": {},
   "source": [
    "## Test Fitter"
   ]
  },
  {
   "cell_type": "code",
   "execution_count": 50,
   "metadata": {
    "ExecuteTime": {
     "end_time": "2020-01-24T14:20:10.675054Z",
     "start_time": "2020-01-24T14:20:10.642072Z"
    }
   },
   "outputs": [],
   "source": [
    "from templatefitter.fitter import TemplateFitter"
   ]
  },
  {
   "cell_type": "code",
   "execution_count": 51,
   "metadata": {
    "ExecuteTime": {
     "end_time": "2020-01-24T14:20:10.698926Z",
     "start_time": "2020-01-24T14:20:10.676629Z"
    }
   },
   "outputs": [],
   "source": [
    "my_fitter = TemplateFitter(fit_model=my_fit_model, minimizer_id=\"iminuit\")"
   ]
  },
  {
   "cell_type": "code",
   "execution_count": null,
   "metadata": {
    "ExecuteTime": {
     "start_time": "2020-01-24T14:19:00.286Z"
    }
   },
   "outputs": [],
   "source": [
    "my_fitter.do_fit(update_templates=True, get_hesse=True, verbose=True, fix_nui_params=False)\n",
    "# %prun my_fitter.do_fit(update_templates=True, get_hesse=True, verbose=True, fix_nui_params=False)"
   ]
  },
  {
   "cell_type": "markdown",
   "metadata": {},
   "source": [
    "## Test FitResultPlotter with fitted values"
   ]
  },
  {
   "cell_type": "code",
   "execution_count": null,
   "metadata": {
    "ExecuteTime": {
     "start_time": "2020-01-24T14:19:00.289Z"
    },
    "scrolled": true
   },
   "outputs": [],
   "source": [
    "my_result_plotter.plot_fit_result()"
   ]
  },
  {
   "cell_type": "markdown",
   "metadata": {},
   "source": [
    "## Fitter Test with Data"
   ]
  },
  {
   "cell_type": "code",
   "execution_count": null,
   "metadata": {},
   "outputs": [],
   "source": [
    "param_handler_wd = ParameterHandler()\n",
    "my_fit_model_wd = FitModel(parameter_handler=param_handler_wd)"
   ]
  },
  {
   "cell_type": "code",
   "execution_count": null,
   "metadata": {},
   "outputs": [],
   "source": [
    "for comp in plot_order:\n",
    "    my_fit_model_wd.add_model_parameter(\n",
    "        name=f\"yield_{comp}\",\n",
    "        parameter_type=ParameterHandler.yield_parameter_type,\n",
    "        floating=True,\n",
    "        initial_value=initial_yield_dict[comp],\n",
    "        constrain_to_value=None,\n",
    "        constraint_sigma=None\n",
    "    )\n",
    "    \n",
    "channel_templates = defaultdict(list)\n",
    "channel_eff_parameters = defaultdict(list)\n",
    "\n",
    "for mode_name, mode_ids in mode_infos:\n",
    "    if mode_name == \"all_modes\":\n",
    "        continue\n",
    "        \n",
    "    for comp in plot_order:\n",
    "        reco_id = rdstar_sig_queries[comp][\"id\"]\n",
    "        \n",
    "        template = Template(\n",
    "            name=f\"{mode_name}_{comp}\",\n",
    "            latex_label=sig_id_to_label[reco_id],\n",
    "            color=get_rdstar_color_dict()[reco_id],\n",
    "            process_name=comp,\n",
    "            dimensions=1,\n",
    "            bins=(rdstar_miss_mass_binning_for_dec_modes[mode_name]),#, 2, 2),\n",
    "            scope=(m_miss_sb_info.hist_var.scope),#, pStarL_sb_info.hist_var.scope, miss_mom_sb_info.hist_var.scope),\n",
    "            params=param_handler_wd,\n",
    "            data_column_names=[m_miss_sb_info.hist_var.df_label],#, pStarL_sb_info.hist_var.df_label, miss_mom_sb_info.hist_var.df_label],\n",
    "            data=df_mc.loc[\n",
    "        df_mc.daughter__bo1__cm__spextraInfo__bodecayModeID__bc__bc.isin(mode_ids)\n",
    "            ].query(f\"SIG_ID == {reco_id}\"),\n",
    "            weights=weight_col_for_fit,\n",
    "            systematics=get_systematics(df=df_mc, sys_cols_infos=full_systematics_cols),\n",
    "            log_scale_mask=False\n",
    "        )\n",
    "        \n",
    "        template_id = my_fit_model_wd.add_template(\n",
    "            template=template,\n",
    "            yield_parameter=f\"yield_{comp}\",\n",
    "            use_other_systematics=True\n",
    "        )\n",
    "        channel_templates[mode_name].append(f\"temp_{template_id}\")\n",
    "        \n",
    "        eff_param_name = f\"eff_{mode_name}_{comp}\"\n",
    "        my_fit_model_wd.add_model_parameter(\n",
    "            name=eff_param_name,\n",
    "            parameter_type=\"efficiency\",\n",
    "            floating=False,\n",
    "            initial_value=initial_eff_dict[comp][mode_name],\n",
    "            constrain_to_value=initial_eff_dict[comp][mode_name],\n",
    "            constraint_sigma=0.1\n",
    "        )\n",
    "        channel_eff_parameters[mode_name].append(eff_param_name)\n",
    "        \n",
    "    my_fit_model_wd.add_channel(\n",
    "            efficiency_parameters=channel_eff_parameters[mode_name],\n",
    "            name=mode_name,\n",
    "            components=channel_templates[mode_name],\n",
    "    )"
   ]
  },
  {
   "cell_type": "code",
   "execution_count": null,
   "metadata": {},
   "outputs": [],
   "source": []
  },
  {
   "cell_type": "code",
   "execution_count": null,
   "metadata": {},
   "outputs": [],
   "source": []
  },
  {
   "cell_type": "code",
   "execution_count": null,
   "metadata": {},
   "outputs": [],
   "source": []
  },
  {
   "cell_type": "markdown",
   "metadata": {},
   "source": [
    "# Second Fitter Test"
   ]
  },
  {
   "cell_type": "code",
   "execution_count": null,
   "metadata": {
    "ExecuteTime": {
     "start_time": "2020-01-24T14:19:00.290Z"
    }
   },
   "outputs": [],
   "source": [
    "plot_order_one = [\"Dl\"]"
   ]
  },
  {
   "cell_type": "code",
   "execution_count": null,
   "metadata": {
    "ExecuteTime": {
     "start_time": "2020-01-24T14:19:00.292Z"
    }
   },
   "outputs": [],
   "source": [
    "param_handler_2 = ParameterHandler()\n",
    "my_fit_model_2 = FitModel(parameter_handler=param_handler_2)"
   ]
  },
  {
   "cell_type": "code",
   "execution_count": null,
   "metadata": {
    "ExecuteTime": {
     "start_time": "2020-01-24T14:19:00.294Z"
    }
   },
   "outputs": [],
   "source": [
    "for comp in plot_order_one:\n",
    "    my_fit_model_2.add_model_parameter(\n",
    "        name=f\"yield_{comp}\",\n",
    "        parameter_type=ParameterHandler.yield_parameter_type,\n",
    "        floating=True,\n",
    "        initial_value=initial_yield_dict[comp],\n",
    "        constrain_to_value=None,\n",
    "        constraint_sigma=None\n",
    "    )\n",
    "    \n",
    "channel_templates_2 = defaultdict(list)\n",
    "channel_eff_parameters_2 = defaultdict(list)\n",
    "\n",
    "for mode_name, mode_ids in mode_infos:\n",
    "    if mode_name != \"all_modes\":\n",
    "        continue\n",
    "        \n",
    "    for comp in plot_order_one:\n",
    "        reco_id = rdstar_sig_queries[comp][\"id\"]\n",
    "        \n",
    "        template = Template(\n",
    "            name=f\"{mode_name}_{comp}\",\n",
    "            process_name=comp,\n",
    "            dimensions=1,\n",
    "            bins=rdstar_miss_mass_binning_for_dec_modes[mode_name],\n",
    "            scope=m_miss_sb_info.hist_var.scope,\n",
    "            params=param_handler_2,\n",
    "            data_column_names=m_miss_sb_info.hist_var.df_label,\n",
    "            data=df_mc.loc[\n",
    "        df_mc.daughter__bo1__cm__spextraInfo__bodecayModeID__bc__bc.isin(mode_ids)\n",
    "            ].query(f\"SIG_ID == {reco_id}\"),\n",
    "            weights=weight_col_for_fit,\n",
    "            systematics=get_systematics(df=df_mc, sys_cols_infos=full_systematics_cols),\n",
    "            log_scale_mask=False\n",
    "        )\n",
    "        \n",
    "        template_id = my_fit_model_2.add_template(\n",
    "            template=template,\n",
    "            yield_parameter=f\"yield_{comp}\",\n",
    "            use_other_systematics=True\n",
    "        )\n",
    "        channel_templates_2[mode_name].append(f\"temp_{template_id}\")\n",
    "        \n",
    "        eff_param_name = f\"eff_{mode_name}_{comp}\"\n",
    "        my_fit_model_2.add_model_parameter(\n",
    "            name=eff_param_name,\n",
    "            parameter_type=\"efficiency\",\n",
    "            floating=False,\n",
    "            initial_value=initial_eff_dict[comp][mode_name],\n",
    "            constrain_to_value=initial_eff_dict[comp][mode_name],\n",
    "            constraint_sigma=0.1\n",
    "        )\n",
    "        channel_eff_parameters_2[mode_name].append(eff_param_name)\n",
    "        \n",
    "    my_fit_model_2.add_channel(\n",
    "            efficiency_parameters=channel_eff_parameters_2[mode_name],\n",
    "            name=f\"mode_{mode_name}\",\n",
    "            components=channel_templates_2[mode_name],\n",
    "    )"
   ]
  },
  {
   "cell_type": "code",
   "execution_count": null,
   "metadata": {
    "ExecuteTime": {
     "start_time": "2020-01-24T14:19:00.296Z"
    }
   },
   "outputs": [],
   "source": [
    "data_channel_infos = {}\n",
    "data_channel_weight_infos = {}\n",
    "for mode_name, mode_ids in mode_infos:\n",
    "    if mode_name != \"all_modes\":\n",
    "        continue\n",
    "        \n",
    "    reco_id = rdstar_sig_queries[plot_order_one[0]][\"id\"]\n",
    "    sig_cond = df_mc.SIG_ID == reco_id\n",
    "    \n",
    "    data_channel_infos.update({\n",
    "        f\"mode_{mode_name}\":\n",
    "        df_mc.loc[df_mc.daughter__bo1__cm__spextraInfo__bodecayModeID__bc__bc.isin(mode_ids) & sig_cond]\n",
    "    })\n",
    "    \n",
    "    data_channel_weight_infos.update({f\"mode_{mode_name}\": weight_col_for_fit})\n",
    "\n",
    "my_fit_model_2.add_data(channels=data_channel_infos, channel_weights=data_channel_weight_infos)"
   ]
  },
  {
   "cell_type": "code",
   "execution_count": null,
   "metadata": {},
   "outputs": [],
   "source": []
  },
  {
   "cell_type": "code",
   "execution_count": null,
   "metadata": {
    "ExecuteTime": {
     "start_time": "2020-01-24T14:19:00.298Z"
    }
   },
   "outputs": [],
   "source": [
    "my_fit_model_2.finalize_model()"
   ]
  },
  {
   "cell_type": "code",
   "execution_count": null,
   "metadata": {
    "ExecuteTime": {
     "start_time": "2020-01-24T14:19:00.300Z"
    }
   },
   "outputs": [],
   "source": [
    "my_fitter_2 = TemplateFitter(fit_model=my_fit_model_2, minimizer_id=\"iminuit\")"
   ]
  },
  {
   "cell_type": "code",
   "execution_count": null,
   "metadata": {
    "ExecuteTime": {
     "start_time": "2020-01-24T14:19:00.302Z"
    }
   },
   "outputs": [],
   "source": [
    "my_fitter_2.do_fit(update_templates=False, get_hesse=True, verbose=True, fix_nui_params=False)"
   ]
  },
  {
   "cell_type": "code",
   "execution_count": null,
   "metadata": {
    "ExecuteTime": {
     "start_time": "2020-01-24T14:19:00.304Z"
    }
   },
   "outputs": [],
   "source": [
    "# Testing application of factor 2 in statistical_error_squared array:\n",
    "# Yield before: yield_Dl  12640  112.414\n",
    "# Yield after: yield_Dl   12640  112.414 -> No change!\n",
    "# Increasing statistics overall by adding factor 2 to the weights:\n",
    "# Yield after: yield_Dl   25270  158.965 -> Increase by factor sqrt(2)!"
   ]
  },
  {
   "cell_type": "code",
   "execution_count": null,
   "metadata": {
    "ExecuteTime": {
     "start_time": "2020-01-24T14:19:00.305Z"
    }
   },
   "outputs": [],
   "source": [
    "my_result_plotter_2 = FitResultPlotter(\n",
    "    variable=m_miss_sb_info.hist_var,\n",
    "    fit_model=my_fit_model_2,\n",
    "    reference_dimension=0\n",
    ")"
   ]
  },
  {
   "cell_type": "code",
   "execution_count": null,
   "metadata": {
    "ExecuteTime": {
     "start_time": "2020-01-24T14:19:00.307Z"
    }
   },
   "outputs": [],
   "source": [
    "my_result_plotter_2.plot_fit_result()"
   ]
  },
  {
   "cell_type": "markdown",
   "metadata": {},
   "source": [
    "# Max' Fit"
   ]
  },
  {
   "cell_type": "code",
   "execution_count": null,
   "metadata": {
    "ExecuteTime": {
     "start_time": "2020-01-24T14:19:00.308Z"
    }
   },
   "outputs": [],
   "source": [
    "import matplotlib\n",
    "\n",
    "import maxtemplatefitter as tf\n",
    "matplotlib.use('Agg')\n",
    "\n",
    "num_bins = rdstar_miss_mass_binning_for_dec_modes\n",
    "limits = m_miss_sb_info.hist_var.scope\n",
    "\n",
    "\n",
    "mct = tf.templates.MultiChannelTemplate()\n",
    "\n",
    "for comp in plot_order_one:\n",
    "    mct.define_process(comp)\n",
    "\n",
    "for mode_name, mode_ids in mode_infos:\n",
    "    if mode_name != \"all_modes\":\n",
    "        continue\n",
    "        \n",
    "    mct.define_channel(mode_name, num_bins[mode_name], limits)\n",
    "        \n",
    "    for comp in plot_order_one:\n",
    "        reco_id = rdstar_sig_queries[comp][\"id\"]\n",
    "        \n",
    "        sig_q = df_mc.SIG_ID == reco_id\n",
    "        mode_q = df_mc.daughter__bo1__cm__spextraInfo__bodecayModeID__bc__bc.isin(mode_ids)\n",
    "        \n",
    "        data = df_mc.loc[sig_q & mode_q, m_miss_sb_info.hist_var.df_label].values\n",
    "        weight = df_mc.loc[sig_q & mode_q, weight_col_for_fit].values\n",
    "        \n",
    "        temp_hist = tf.histograms.Hist1d(bins=num_bins[mode_name], range=limits, data=data, weights=weight)\n",
    "        temp = tf.templates.Template1d(comp, \"missingMass\", temp_hist, color=get_rdstar_color_dict()[reco_id])\n",
    "\n",
    "        mct.add_template(mode_name, comp, temp, initial_eff_dict[comp][mode_name])\n"
   ]
  },
  {
   "cell_type": "code",
   "execution_count": null,
   "metadata": {
    "ExecuteTime": {
     "start_time": "2020-01-24T14:19:00.310Z"
    }
   },
   "outputs": [],
   "source": [
    "for mode_name, mode_ids in mode_infos:\n",
    "    if mode_name != \"all_modes\":\n",
    "        continue\n",
    "\n",
    "    sig_q = df_mc.SIG_ID == rdstar_sig_queries[plot_order_one[0]][\"id\"]\n",
    "    mode_q = df_mc.daughter__bo1__cm__spextraInfo__bodecayModeID__bc__bc.isin(mode_ids)\n",
    "    \n",
    "    sdata = df_mc.loc[mode_q & sig_q, m_miss_sb_info.hist_var.df_label].values\n",
    "    sweight = df_mc.loc[mode_q & sig_q, weight_col_for_fit].values\n",
    "    info_dict = {mode_name: tf.histograms.Hist1d(num_bins[mode_name], limits, data=sdata, weights=sweight)}\n",
    "        \n",
    "    mct.add_data(**info_dict)"
   ]
  },
  {
   "cell_type": "code",
   "execution_count": null,
   "metadata": {
    "ExecuteTime": {
     "start_time": "2020-01-24T14:19:00.312Z"
    }
   },
   "outputs": [],
   "source": [
    "for channel in mct.channels.values():\n",
    "    fig, axis = plt.subplots(1,1, figsize=(8,8))\n",
    "    channel.plot_stacked_on(axis)"
   ]
  },
  {
   "cell_type": "code",
   "execution_count": null,
   "metadata": {
    "ExecuteTime": {
     "start_time": "2020-01-24T14:19:00.314Z"
    }
   },
   "outputs": [],
   "source": [
    "maxfitter = tf.TemplateFitter(mct, \"iminuit\")\n",
    "\n",
    "maxfitter.do_fit(update_templates=True, get_hesse=True, verbose=True, fix_nui_params=False)\n",
    "print(mct.rate_uncertainties_nui_params)"
   ]
  },
  {
   "cell_type": "code",
   "execution_count": null,
   "metadata": {},
   "outputs": [],
   "source": []
  },
  {
   "cell_type": "code",
   "execution_count": null,
   "metadata": {
    "ExecuteTime": {
     "end_time": "2020-01-14T16:59:32.173080Z",
     "start_time": "2020-01-14T16:59:32.150763Z"
    }
   },
   "outputs": [],
   "source": []
  },
  {
   "cell_type": "code",
   "execution_count": null,
   "metadata": {},
   "outputs": [],
   "source": []
  }
 ],
 "metadata": {
  "hide_input": false,
  "kernelspec": {
   "display_name": "Python 3 (Belle2)",
   "language": "python",
   "name": "python3"
  },
  "language_info": {
   "codemirror_mode": {
    "name": "ipython",
    "version": 3
   },
   "file_extension": ".py",
   "mimetype": "text/x-python",
   "name": "python",
   "nbconvert_exporter": "python",
   "pygments_lexer": "ipython3",
   "version": "3.6.2"
  }
 },
 "nbformat": 4,
 "nbformat_minor": 2
}
