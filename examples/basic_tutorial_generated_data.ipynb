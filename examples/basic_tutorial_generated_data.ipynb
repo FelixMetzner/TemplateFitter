{
 "cells": [
  {
   "cell_type": "markdown",
   "metadata": {},
   "source": [
    "## Imports"
   ]
  },
  {
   "cell_type": "code",
   "execution_count": null,
   "metadata": {
    "collapsed": true
   },
   "outputs": [],
   "source": [
    "import pandas as pd\n",
    "import numpy as np\n",
    "import matplotlib.pyplot as plt"
   ]
  },
  {
   "cell_type": "code",
   "execution_count": null,
   "metadata": {
    "collapsed": true
   },
   "outputs": [],
   "source": [
    "import sys\n",
    "sys.path.insert(0, \"../\")"
   ]
  },
  {
   "cell_type": "code",
   "execution_count": null,
   "metadata": {},
   "outputs": [],
   "source": [
    "import templatefitter as tf"
   ]
  },
  {
   "cell_type": "markdown",
   "metadata": {},
   "source": [
    "## Set up samples"
   ]
  },
  {
   "cell_type": "code",
   "execution_count": null,
   "metadata": {
    "collapsed": true
   },
   "outputs": [],
   "source": [
    "mu_sig_mc = 1/4\n",
    "mu_bkg_mc = 1 - mu_sig_mc\n",
    "mu_sig_data = 1/3\n",
    "mu_bkg_data = 1 - mu_sig_data"
   ]
  },
  {
   "cell_type": "code",
   "execution_count": null,
   "metadata": {
    "collapsed": true
   },
   "outputs": [],
   "source": [
    "n_mc = 1000\n",
    "n_data = 1000"
   ]
  },
  {
   "cell_type": "code",
   "execution_count": null,
   "metadata": {
    "collapsed": true
   },
   "outputs": [],
   "source": [
    "kinvar = \"kinvar\"\n",
    "kinvar_limits = (0, 10)"
   ]
  },
  {
   "cell_type": "code",
   "execution_count": null,
   "metadata": {
    "collapsed": true
   },
   "outputs": [],
   "source": [
    "def gen_sig(size):\n",
    "    return np.random.normal((kinvar_limits[1]+kinvar_limits[0])/2, 1, int(size))\n",
    "\n",
    "def gen_bkg(size):\n",
    "    return kinvar_limits[0] + (kinvar_limits[1]-kinvar_limits[0])*np.random.random_sample(int(size))"
   ]
  },
  {
   "cell_type": "code",
   "execution_count": null,
   "metadata": {
    "collapsed": true
   },
   "outputs": [],
   "source": [
    "# Gaussian around 5\n",
    "mc_sig = pd.DataFrame()\n",
    "mc_sig[kinvar] = gen_sig(mu_sig_mc * n_mc)\n",
    "mc_sig[\"issig\"] = False"
   ]
  },
  {
   "cell_type": "code",
   "execution_count": null,
   "metadata": {
    "collapsed": true
   },
   "outputs": [],
   "source": [
    "# Uniform distribution 0 to 10\n",
    "mc_bkg = pd.DataFrame()\n",
    "mc_bkg[kinvar] = gen_bkg(mu_bkg_mc * n_mc)\n",
    "mc_bkg[\"issig\"] = True"
   ]
  },
  {
   "cell_type": "code",
   "execution_count": null,
   "metadata": {
    "collapsed": true
   },
   "outputs": [],
   "source": [
    "mc = pd.concat([mc_sig, mc_bkg])"
   ]
  },
  {
   "cell_type": "code",
   "execution_count": null,
   "metadata": {
    "collapsed": true
   },
   "outputs": [],
   "source": [
    "# Data distribution:\n",
    "data = pd.DataFrame()\n",
    "data[kinvar] = np.concatenate((gen_sig(mu_sig_data * n_data), gen_bkg(mu_bkg_data * n_data)))"
   ]
  },
  {
   "cell_type": "code",
   "execution_count": null,
   "metadata": {
    "collapsed": true
   },
   "outputs": [],
   "source": [
    "# mc.hist(kinvar, by=\"issig\")\n",
    "# mc.hist(kinvar)\n",
    "# data.hist(kinvar)"
   ]
  },
  {
   "cell_type": "markdown",
   "metadata": {},
   "source": [
    "## Set up templates"
   ]
  },
  {
   "cell_type": "code",
   "execution_count": null,
   "metadata": {
    "collapsed": true
   },
   "outputs": [],
   "source": [
    "num_bins = 5"
   ]
  },
  {
   "cell_type": "code",
   "execution_count": null,
   "metadata": {
    "collapsed": true
   },
   "outputs": [],
   "source": [
    "h_sig = tf.histograms.Hist1d(bins=num_bins, range=kinvar_limits, data=mc_sig[kinvar])\n",
    "t_sig = tf.templates.Template1d(\"Signal\", kinvar, h_sig, color=\"cornflowerblue\")\n",
    "h_bkg = tf.histograms.Hist1d(bins=num_bins, range=kinvar_limits, data=mc_bkg[kinvar])\n",
    "t_bkg = tf.templates.Template1d(\"Background\", kinvar, h_bkg, color=\"indianred\")"
   ]
  },
  {
   "cell_type": "code",
   "execution_count": null,
   "metadata": {},
   "outputs": [],
   "source": [
    "for template in [t_sig, t_bkg]:\n",
    "    _, axis = plt.subplots(1,1)\n",
    "    template.plot_on(axis)"
   ]
  },
  {
   "cell_type": "code",
   "execution_count": null,
   "metadata": {
    "collapsed": true
   },
   "outputs": [],
   "source": [
    "mct = tf.templates.MultiChannelTemplate()"
   ]
  },
  {
   "cell_type": "code",
   "execution_count": null,
   "metadata": {
    "collapsed": true
   },
   "outputs": [],
   "source": [
    "mct.define_channel(\"default\", num_bins, kinvar_limits)"
   ]
  },
  {
   "cell_type": "code",
   "execution_count": null,
   "metadata": {
    "collapsed": true
   },
   "outputs": [],
   "source": [
    "mct.define_process(\"sig\")\n",
    "mct.define_process(\"bkg\")"
   ]
  },
  {
   "cell_type": "code",
   "execution_count": null,
   "metadata": {
    "collapsed": true
   },
   "outputs": [],
   "source": [
    "mct.add_template(\"default\", \"sig\", t_sig)\n",
    "mct.add_template(\"default\", \"bkg\", t_bkg)"
   ]
  },
  {
   "cell_type": "code",
   "execution_count": null,
   "metadata": {
    "collapsed": true
   },
   "outputs": [],
   "source": [
    "mct.add_data(default=tf.histograms.Hist1d(num_bins, kinvar_limits, data=data[kinvar]))"
   ]
  },
  {
   "cell_type": "code",
   "execution_count": null,
   "metadata": {},
   "outputs": [],
   "source": [
    "fig, axis = plt.subplots(1,1, figsize=(8,8))\n",
    "mct.channels[\"default\"].plot_stacked_on(axis)"
   ]
  },
  {
   "cell_type": "markdown",
   "metadata": {},
   "source": [
    "## Fit"
   ]
  },
  {
   "cell_type": "code",
   "execution_count": null,
   "metadata": {
    "collapsed": true
   },
   "outputs": [],
   "source": [
    "fitter = tf.TemplateFitter(mct, \"iminuit\")"
   ]
  },
  {
   "cell_type": "code",
   "execution_count": null,
   "metadata": {
    "scrolled": false
   },
   "outputs": [],
   "source": [
    "fitter.do_fit(update_templates=True)"
   ]
  },
  {
   "cell_type": "code",
   "execution_count": null,
   "metadata": {},
   "outputs": [],
   "source": [
    "_, axis = plt.subplots(1,1, figsize=(8,8))\n",
    "mct.channels[\"default\"].plot_stacked_on(axis)"
   ]
  }
 ],
 "metadata": {
  "kernelspec": {
   "display_name": "Python 3",
   "language": "python",
   "name": "python3"
  },
  "language_info": {
   "codemirror_mode": {
    "name": "ipython",
    "version": 3
   },
   "file_extension": ".py",
   "mimetype": "text/x-python",
   "name": "python",
   "nbconvert_exporter": "python",
   "pygments_lexer": "ipython3",
   "version": "3.6.6"
  },
  "pycharm": {
   "stem_cell": {
    "cell_type": "raw",
    "source": [],
    "metadata": {
     "collapsed": false
    }
   }
  }
 },
 "nbformat": 4,
 "nbformat_minor": 2
}
